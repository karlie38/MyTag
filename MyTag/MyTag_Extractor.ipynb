{
 "cells": [
  {
   "cell_type": "code",
   "execution_count": 9,
   "metadata": {},
   "outputs": [],
   "source": [
    "import os\n",
    "import re\n",
    "import pandas as pd\n",
    "import MeCab\n",
    "import matplotlib.font_manager as fm\n",
    "import matplotlib.pyplot as plt\n",
    "from future.utils import iteritems\n",
    "from collections import Counter\n",
    "from sklearn.manifold import TSNE\n",
    "from sklearn.feature_extraction.text import TfidfVectorizer\n",
    "from sklearn.feature_extraction.text import CountVectorizer\n",
    "from ckonlpy.tag import Twitter\n",
    "from collections import Counter\n",
    "# from konlpy.tag import Okt"
   ]
  },
  {
   "cell_type": "code",
   "execution_count": 2,
   "metadata": {},
   "outputs": [],
   "source": [
    "def preprocess(path, idx):\n",
    "   \n",
    "   # 폴더 내 모든 파일 부르기\n",
    "    files_group = []    \n",
    "    files_group = [ word for word in os.listdir(path) if word[-3:] == 'csv']\n",
    "    \n",
    "    # i 번째 파일 식당 부르기\n",
    "    i = idx\n",
    "    print('총', len(files_group), '개 중 ',i + 1, '번 째 파일입니다.' )\n",
    "    df1 = pd.read_csv(path + files_group[i])\n",
    "    \n",
    "    # title 문장 \n",
    "    sents = []\n",
    "    for i in range(len(df1)):\n",
    "        sents.append(re.sub('[^가-힣a-zA-Z\\s\\d]' ,'', df1.title.iloc[i]))\n",
    "        \n",
    "    # 본문 문장 합치기\n",
    "    for i in range(len(df1)):\n",
    "        try:\n",
    "            sents.append(re.sub('[^가-힣a-zA-Z\\s\\d]' ,'', df1.description.iloc[i]))\n",
    "        except:\n",
    "            pass\n",
    "    \n",
    "    print('총 %s개의 문장이 추출되었습니다.' % len(sents))\n",
    "    \n",
    "    \n",
    "    ## 전처리\n",
    "    m = MeCab.Tagger()\n",
    "    mecab_sents = [m.parse(sent) for sent in sents]\n",
    "    \n",
    "    add_nouns= []\n",
    "    except_words = []\n",
    "    \n",
    "    with open('./data/restaurants/food_dic.txt', 'r', encoding = 'utf-8') as f:\n",
    "        s = f.readlines()\n",
    "    foods = [word.replace('\\n', '') for word in s]\n",
    "    \n",
    "    for ddd in mecab_sents:\n",
    "        lines = ddd.split('\\n')\n",
    "        tmp1 = [line.split('\\t')[0] for line in lines if 'Compound' in line ]\n",
    "        tmp2 = [line.split('\\t')[0] for line in lines if ('MAG' in line or 'EF' in line) and len(line.split('\\t')[0]) > 1]\n",
    "        add_nouns.extend(tmp1)\n",
    "        except_words.extend(tmp2)\n",
    "    add_nouns.extend(foods)\n",
    "    \n",
    "    add_nouns = list(set(add_nouns))\n",
    "    except_words = list(set(except_words))\n",
    "    \n",
    "    \n",
    "    m = Twitter()\n",
    "    # 추가할 사용자 사전\n",
    "                 # 식당 이름 \n",
    "    user_dic = [df1.name.iloc[0], '기대감', '웨이팅', '가성비', '재방문', '오리지널', '오리지날',  \n",
    "                '콜키지', '가정식', '인스타', '콜키지프리', '콜키지무료', '회식', '갬성', 'sns', 'SNS','회식', \n",
    "                '상견례', '연말모임', '기념일', '생일', '생신', '소개팅',\n",
    "                # 누구랑\n",
    "                '남친', '남자친구', '여친', '여자친구', '부모님', '어른', '회사동기','동기','친구',\n",
    "                # 방송 tv\n",
    "                '수요미식회', '3대천왕', '맛있는녀석들', '먹거리파일', '백종원', '골목식당', '착한식당', '르꼬르동블루', \n",
    "                '블루리본서베이', '미슐랭', '티비', '방송',\n",
    "               '서베이', '망고플레이트', '망플', '빕구르망',\n",
    "                # 그외\n",
    "               '모던한', '퓨전', '현대적','핫플레이스', '경리단길', '할로윈'\n",
    "               ]\n",
    "    user_dic.extend(add_nouns)\n",
    "    \n",
    "    # 제외할 사용자 사전\n",
    "    except_dic = ['어요','오랜만', '입니당', '먹음', '입니다', '안녕', '이번', '정말', '부터', '오늘', '어서', '있는', '래서', '드디어', '요즘', '다가', '한번'\n",
    "               , '위치', '홍대', '근처', '바로', '좋은', '후기', '가격', '메뉴', '입구', '서울', '항상', '찾기', '메뉴판', '아하', '여기', '진짜', '보고', '면서',\n",
    "               '좋고', '좋아', '까지', '려고', '있다', '여기', '포스팅', '하기', '추천', '맛집', '정도', '시간', '가게', '가득', '전부']\n",
    "    except_dic.append(except_words)\n",
    "\n",
    "\n",
    "    # Mecab으로 추가할 단어 추가\n",
    "    for word in user_dic:\n",
    "        m.add_dictionary(word, 'Noun')\n",
    "\n",
    "    # Mecab으로 제외할 단어 추가\n",
    "    for word in except_dic:\n",
    "        m.add_dictionary(word, 'Josa')\n",
    "    mecab_sents = [m.pos(sent) for sent in sents]\n",
    "\n",
    "    # pos 태깅하여 명사만 걸러냄\n",
    "    mecab_sents2 = []\n",
    "    for output in mecab_sents:\n",
    "        tmp = []\n",
    "        for token in output:\n",
    "            if (len(token[0]) > 1 and token[0] != '빵') and (token[1] == 'Noun'  ) and (token[0] not in except_dic):\n",
    "                    tmp.append(token[0])\n",
    "        mecab_sents2.append(' '.join(tmp))\n",
    "    \n",
    "    # 식당 이름\n",
    "    name = df1.name.iloc[0]\n",
    "    \n",
    "    # 네이버 태그 리스트\n",
    "    tags = df1['tags'].iloc[0]\n",
    "    \n",
    "    return mecab_sents2, name, mecab_sents, except_dic, tags "
   ]
  },
  {
   "cell_type": "code",
   "execution_count": 3,
   "metadata": {},
   "outputs": [],
   "source": [
    "## textrank\n",
    "\n",
    "def scan_vocabulary(sents, tokenize, min_count=2):\n",
    "    counter = Counter(w for sent in sents for w in tokenize(sent) if len(w) > 1 )\n",
    "    counter = {w:c for w,c in counter.items() if c >= min_count}\n",
    "    idx_to_vocab = [w for w, _ in sorted(counter.items(), key=lambda x:-x[1])]\n",
    "    vocab_to_idx = {vocab:idx for idx, vocab in enumerate(idx_to_vocab)}\n",
    "    return idx_to_vocab, vocab_to_idx\n",
    "\n",
    "from collections import defaultdict\n",
    "\n",
    "def cooccurrence(tokens, vocab_to_idx, window=2, min_cooccurrence=2):\n",
    "    counter = defaultdict(int)\n",
    "    for s, tokens_i in enumerate(tokens):\n",
    "        vocabs = [vocab_to_idx[w] for w in tokens_i if w in vocab_to_idx]\n",
    "        n = len(vocabs)\n",
    "        for i, v in enumerate(vocabs):\n",
    "            if window <= 0:\n",
    "                b, e = 0, n\n",
    "            else:\n",
    "                b = max(0, i - window)\n",
    "                e = min(i + window, n)\n",
    "            for j in range(b, e):\n",
    "                if i == j:\n",
    "                    continue\n",
    "                counter[(v, vocabs[j])] += 1\n",
    "                counter[(vocabs[j], v)] += 1\n",
    "    counter = {k:v for k,v in counter.items() if v >= min_cooccurrence}\n",
    "    n_vocabs = len(vocab_to_idx)\n",
    "    return dict_to_mat(counter, n_vocabs, n_vocabs)\n",
    "\n",
    "from scipy.sparse import csr_matrix\n",
    "\n",
    "def dict_to_mat(d, n_rows, n_cols):\n",
    "    rows, cols, data = [], [], []\n",
    "    for (i, j), v in d.items():\n",
    "        rows.append(i)\n",
    "        cols.append(j)\n",
    "        data.append(v)\n",
    "    return csr_matrix((data, (rows, cols)), shape=(n_rows, n_cols))\n",
    "\n",
    "def word_graph(sents, tokenize=None, min_count=2, window=2, min_cooccurrence=2):\n",
    "    idx_to_vocab, vocab_to_idx = scan_vocabulary(sents, tokenize, min_count)\n",
    "    tokens = [tokenize(sent) for sent in sents]\n",
    "    g = cooccurrence(tokens, vocab_to_idx, window, min_cooccurrence)\n",
    "    return g, idx_to_vocab\n",
    "\n",
    "import numpy as np\n",
    "from sklearn.preprocessing import normalize\n",
    "\n",
    "def pagerank(x, df=0.85, max_iter=30):\n",
    "    assert 0 < df < 1\n",
    "\n",
    "    # initialize\n",
    "    A = normalize(x, axis=0, norm='l1')\n",
    "    R = np.ones(A.shape[0]).reshape(-1,1)\n",
    "    bias = (1 - df) * np.ones(A.shape[0]).reshape(-1,1)\n",
    "\n",
    "    # iteration\n",
    "    for _ in range(max_iter):\n",
    "        R = df * (A * R) + bias\n",
    "\n",
    "    return R\n",
    "\n",
    "def textrank_keyword(sents, tokenize, min_count, window, min_cooccurrence, df=0.85, max_iter=30, topk=30):\n",
    "    g, idx_to_vocab = word_graph(sents, tokenize, min_count, window, min_cooccurrence)\n",
    "    R = pagerank(g, df, max_iter).reshape(-1)\n",
    "    idxs = R.argsort()[-topk:]\n",
    "    keywords = [(idx_to_vocab[idx], R[idx]) for idx in reversed(idxs)]\n",
    "    return keywords"
   ]
  },
  {
   "cell_type": "code",
   "execution_count": 4,
   "metadata": {},
   "outputs": [],
   "source": [
    "from soynlp.tokenizer import MaxScoreTokenizer\n",
    "\n",
    "def textrank(mecab_sents2, name):\n",
    "    scores = {'이태원': 0.3, '한강진': 0.3, '경리단길': 0.3, '신촌': 0.3, '홍대': 0.3, name: 0.7, '홍대입구': 0.2, '맛집':0.1, '추천': 0.1, '남자친구': 0.5, '친구': 0.5, '부모님': 0.5, '언니': 0.5, '동기': 0.5}\n",
    "\n",
    "    tokenizer = MaxScoreTokenizer(scores=scores)\n",
    "\n",
    "    textrank_keywords = textrank_keyword(mecab_sents2, tokenizer, len(mecab_sents2) // 100 + 1, 5, len(mecab_sents2) // 100 + 1)\n",
    "    return textrank_keywords"
   ]
  },
  {
   "cell_type": "code",
   "execution_count": 5,
   "metadata": {},
   "outputs": [],
   "source": [
    "## word2vec * tfidf\n",
    "\n",
    "def word2vec_tfidf(mecab_sents2, mecab_sents, josa_dic):\n",
    "    filtered_words = []\n",
    "    for output in mecab_sents:\n",
    "        tmp = []\n",
    "        for token in output:\n",
    "            if (len(token[0]) > 1) and (token[1][0] == 'N' ) and token[0] not in josa_dic:\n",
    "                    filtered_words.append(token[0])\n",
    "                \n",
    "    counts = Counter(filtered_words)\n",
    "    vocab = sorted(counts, key=counts.get, reverse=True)\n",
    "    word2idx = {word.encode(\"utf8\").decode(\"utf8\"): ii for ii, word in enumerate(vocab,1)}\n",
    "    idx2word = {ii: word for ii, word in enumerate(vocab)}\n",
    "#     V = len(word2idx)\n",
    "#     N = total_data\n",
    "    \n",
    "    tfidf = TfidfVectorizer(max_features = 30, max_df=0.75, min_df=len(mecab_sents) // 100 + 1)\n",
    "    \n",
    "    #generate tf-idf term-document matrix\n",
    "    A_tfidf_sp = tfidf.fit_transform(mecab_sents2) \n",
    "    tfidf_dict = tfidf.get_feature_names()\n",
    "    data_array = A_tfidf_sp.toarray()\n",
    "    data = pd.DataFrame(data_array, columns=tfidf_dict)\n",
    "    max_value = A_tfidf_sp.max(axis = 0).toarray().ravel()\n",
    "    \n",
    "    tfidf_dict = dict()\n",
    "    for key, val in zip(data.columns, max_value):\n",
    "        tfidf_dict[key] = val\n",
    "    tfidf_dict = sorted(tfidf_dict.items(), key = lambda t : t[1], reverse = True)\n",
    "    \n",
    "    return tfidf_dict"
   ]
  },
  {
   "cell_type": "code",
   "execution_count": 6,
   "metadata": {},
   "outputs": [],
   "source": [
    "## soy keyword\n",
    "\n",
    "from soykeyword.proportion import CorpusbasedKeywordExtractor\n",
    "def soy_keywords(mecab_sents2, name):\n",
    "    corpusbased_extractor = CorpusbasedKeywordExtractor(\n",
    "        min_tf=1,\n",
    "        min_df=2,\n",
    "        tokenize=lambda x:x.strip().split(),\n",
    "        verbose=True\n",
    "    )\n",
    "    corpusbased_extractor.train(mecab_sents2)\n",
    "    \n",
    "    keywords_base = corpusbased_extractor.extract_from_word(\n",
    "    name,\n",
    "    min_score=0.7,\n",
    "    min_frequency= 3\n",
    "    )\n",
    "\n",
    "    soyextract_dict = dict()\n",
    "    for word in keywords_base:\n",
    "        if word[1] * word[2] > 3:\n",
    "            soyextract_dict[word[0]] = word[1] * word[2]\n",
    "    soyextract_dict = sorted(soyextract_dict.items(), key = lambda k:  k[1], reverse = True)\n",
    "    return soyextract_dict"
   ]
  },
  {
   "cell_type": "code",
   "execution_count": 50,
   "metadata": {},
   "outputs": [],
   "source": [
    "## total\n",
    "def outputs(mecab_sents2, name, mecab_sents, josa_dic, tags):\n",
    "    \n",
    "    textrank_keywords = textrank(mecab_sents2, name)\n",
    "    tfidf_dict = word2vec_tfidf(mecab_sents2, mecab_sents, josa_dic)\n",
    "    soyextract_dict = soy_keywords(mecab_sents2, name)  \n",
    "    \n",
    "    # 각 extractor score 점수를 정규화 시키기 위해 score 가져오기\n",
    "    li1 = [val[1] for val in textrank_keywords]\n",
    "    li2 = [val[1] for val in tfidf_dict]\n",
    "    li3 = [val[1] for val in soyextract_dict]\n",
    "    \n",
    "    # 3개 extractor에서 나온 값들 정규화함(result2의 경우, tf-idf가 더 중요한 피쳐로 가중치 줌)\n",
    "    result1 = [(key, (val - np.mean(li1)) / np.std(li1) ) for key, val in textrank_keywords]\n",
    "    result2 = [(key, (val - (np.mean(li2) * (2/3))) / np.std(li2) ) for key, val in tfidf_dict]\n",
    "    result3 = [(key, (val - np.mean(li3)) / np.std(li3) ) for key, val in soyextract_dict]\n",
    "\n",
    "    # 음식사전에 있으면 추가\n",
    "    with open('./data/restaurants/food_dic.txt', 'r', encoding = 'utf-8') as f:\n",
    "        s = f.readlines()\n",
    "    foods = [word.replace('\\n', '') for word in s]\n",
    "    # 목적사전에 있으면 추가\n",
    "    withwho = [  '남친', '남자친구', '여친', '여자친구', '부모님', '어른', '회사동기','동기','친구', '데이트', '회식',\n",
    "               '상견례', '연말모임', '기념일', '생일', '생신', '소개팅']\n",
    "     \n",
    "    # 합침\n",
    "    tmp_dic = dict()\n",
    "    for word in result1:\n",
    "        if word in foods :\n",
    "            tmp_dic[word[0]] = word[1] * 5\n",
    "        elif word in withwho:\n",
    "            tmp_dic[word[0]] = word[1] * 3\n",
    "        else:\n",
    "            tmp_dic[word[0]] = word[1]\n",
    "\n",
    "    for word in result2:\n",
    "        if word[0] in tmp_dic.keys() and word[0] in foods :\n",
    "            tmp_dic[word[0]] += word[1] * 7\n",
    "        elif word[0] in tmp_dic.keys() and word[0] in withwho:\n",
    "            tmp_dic[word[0]] += word[1] * 5\n",
    "        elif word[0] in tmp_dic.keys():\n",
    "            tmp_dic[word[0]] += word[1]\n",
    "            \n",
    "        elif (word[0] in foods  ):\n",
    "            tmp_dic[word[0]] = word[1] * 5\n",
    "        elif word[0] in withwho:\n",
    "            tmp_dic[word[0]] = word[1] * 3\n",
    "        else:\n",
    "            tmp_dic[word[0]] = word[1]\n",
    "\n",
    "    for word in result3:\n",
    "        if word[0] in tmp_dic.keys() and word[0] in foods :\n",
    "            tmp_dic[word[0]] += word[1] * 7\n",
    "        elif word[0] in tmp_dic.keys() and word[0] in withwho:\n",
    "            tmp_dic[word[0]] += word[1] * 5\n",
    "        elif word[0] in tmp_dic.keys():\n",
    "            tmp_dic[word[0]] += word[1]\n",
    "            \n",
    "        elif (word[0] in foods  ):\n",
    "            tmp_dic[word[0]] = word[1] * 5\n",
    "        elif word[0] in withwho:\n",
    "            tmp_dic[word[0]] = word[1] * 3\n",
    "        else:\n",
    "            tmp_dic[word[0]] = word[1]\n",
    "               \n",
    "    tmp_dic = dict(sorted(tmp_dic.items(), key = lambda k : k[1], reverse = True))\n",
    "#     print('sorted values')     \n",
    "#     print(tmp_dic)\n",
    "   \n",
    "    final_result = [key for key, val in tmp_dic.items() if (val > 0.2 and key != name and key not in name) or (key in foods ) or (key in withwho) \\\n",
    "                   or (key in name and key in foods)]\n",
    "    \n",
    "    except_dic_2 = ['안녕','여기','요즘', '다가', '한번', '음식점','어요', '부터', '오랜만', '포스팅', '근처', '인근', '음식','후기', '식당', '생각', '어가', '사람', '하나', '구들', '오픈', '출구', \n",
    "                    '영업시간', '시작','지난', '처음','하니', '유명', '소개', '방문', '맛있', '날씨', '호점', '브레이크','오늘', '타임', '오후', '오전', '역시', '많은', '얼마', '휴무','이번',\n",
    "                   '가보', '지점', '찍기', '발견', '인근', '우리', '전문점','선정', '사이', '최고', '이태원', '홍대', '신촌', '한강진역', '이태원역', '신촌역', '홍대역', '경리단길', '까지', '메뉴',\n",
    "                   '가격', '메뉴판', '가게', '입구', '출구', '맛집', '위치', '서울', '여러분', '추천', '바로', '어서', '장소', '면서']\n",
    "    \n",
    "    \n",
    "    # Mecab으로 -역, -동 같은 지명 이름 제외\n",
    "    mm = MeCab.Tagger()\n",
    "    aa = mm.parse(' '.join(final_result)).split('\\n')\n",
    "    for word in aa:\n",
    "        if ('NNP' in word and '지명+' in word.split('NNP')[-1]) or ('MAG' in word) or ('VV+EC' in word) or ('NNB' in word):\n",
    "            except_dic_2.append(word.split()[0])\n",
    "    \n",
    "    final_result__ = [word for word in final_result if word not in except_dic_2]\n",
    "  \n",
    "    print('식당이름: ',name)\n",
    "    print('네이버 태그: ',tags)\n",
    "    print('마이 태그 답: ',final_result__, end = ', ')\n",
    "    \n",
    "\n",
    "    return name, tags, final_result__\n"
   ]
  },
  {
   "cell_type": "code",
   "execution_count": 51,
   "metadata": {},
   "outputs": [
    {
     "name": "stdout",
     "output_type": "stream",
     "text": [
      "총 50 개 중  1 번 째 파일입니다.\n",
      "총 206개의 문장이 추출되었습니다.\n"
     ]
    },
    {
     "name": "stderr",
     "output_type": "stream",
     "text": [
      "C:\\ProgramData\\Anaconda3\\lib\\site-packages\\konlpy\\tag\\_okt.py:16: UserWarning: \"Twitter\" has changed to \"Okt\" since KoNLPy v0.4.5.\n",
      "  warn('\"Twitter\" has changed to \"Okt\" since KoNLPy v0.4.5.')\n"
     ]
    },
    {
     "name": "stdout",
     "output_type": "stream",
     "text": [
      "\r",
      "training was done 225 terms, 206 docs, memory = 0.405 Gb\n",
      "식당이름:  BNHR\n",
      "네이버 태그:  ['심플한', '감각적인', '카페', '인테리어소품', '떡집', '밀크티', '디저트', '핫플레이스', '깔끔한내부', '나들이']\n",
      "마이 태그 답:  ['밀크티', '친구', '카페', '벤허', 'bnhr', '커피', '사평', '분위기', '동반', '계단', '떡국', '플랫화이트'], \n",
      "==============================================================\n",
      "총 50 개 중  2 번 째 파일입니다.\n",
      "총 200개의 문장이 추출되었습니다.\n"
     ]
    },
    {
     "name": "stderr",
     "output_type": "stream",
     "text": [
      "C:\\ProgramData\\Anaconda3\\lib\\site-packages\\konlpy\\tag\\_okt.py:16: UserWarning: \"Twitter\" has changed to \"Okt\" since KoNLPy v0.4.5.\n",
      "  warn('\"Twitter\" has changed to \"Okt\" since KoNLPy v0.4.5.')\n"
     ]
    },
    {
     "name": "stdout",
     "output_type": "stream",
     "text": [
      "\r",
      "training was done 283 terms, 200 docs, memory = 0.406 Gb\n",
      "식당이름:  DOTS\n",
      "네이버 태그:  ['친절하고', '고급진', '이국적', '분위기좋은', '세련된', '누들', '레스토랑', '돈가스', '김치볶음밥', '브런치', '핫플레이스', '재방문', '데이트', '나들이', '퓨전중식']\n",
      "마이 태그 답:  ['다츠', '닷츠', '예약', '레스토랑', '한남', '점심', '분위기', '아시안', '아시아', '브런치', '카페', '가츠', '인기', '웨이팅', '카츠', '산도', '퀴진'], \n",
      "==============================================================\n",
      "총 50 개 중  3 번 째 파일입니다.\n",
      "총 202개의 문장이 추출되었습니다.\n"
     ]
    },
    {
     "name": "stderr",
     "output_type": "stream",
     "text": [
      "C:\\ProgramData\\Anaconda3\\lib\\site-packages\\konlpy\\tag\\_okt.py:16: UserWarning: \"Twitter\" has changed to \"Okt\" since KoNLPy v0.4.5.\n",
      "  warn('\"Twitter\" has changed to \"Okt\" since KoNLPy v0.4.5.')\n"
     ]
    },
    {
     "name": "stdout",
     "output_type": "stream",
     "text": [
      "\r",
      "training was done 229 terms, 202 docs, memory = 0.406 Gb\n",
      "식당이름:  곱창도선생\n",
      "네이버 태그:  []\n",
      "마이 태그 답:  ['곱창', '소곱창', '한우', '친구', '술집', '분위기', '창집', '모듬', '당일', '한판', '데이트', '곱창전골'], \n",
      "==============================================================\n",
      "총 50 개 중  4 번 째 파일입니다.\n",
      "총 116개의 문장이 추출되었습니다.\n"
     ]
    },
    {
     "name": "stderr",
     "output_type": "stream",
     "text": [
      "C:\\ProgramData\\Anaconda3\\lib\\site-packages\\konlpy\\tag\\_okt.py:16: UserWarning: \"Twitter\" has changed to \"Okt\" since KoNLPy v0.4.5.\n",
      "  warn('\"Twitter\" has changed to \"Okt\" since KoNLPy v0.4.5.')\n"
     ]
    },
    {
     "name": "stdout",
     "output_type": "stream",
     "text": [
      "\r",
      "training was done 131 terms, 116 docs, memory = 0.406 Gb\n",
      "식당이름:  꿀밤\n",
      "네이버 태그:  []\n",
      "마이 태그 답:  ['포차', '웹툰', '드라마', '술집', '박서준', '라운지', '단밤', '혼술', '광진', '평일', '원작', '클럽', '바스타', '핫플레이스', '분위기', '칵테일', '작가', '친구'], \n",
      "==============================================================\n",
      "총 50 개 중  5 번 째 파일입니다.\n",
      "총 202개의 문장이 추출되었습니다.\n"
     ]
    },
    {
     "name": "stderr",
     "output_type": "stream",
     "text": [
      "C:\\ProgramData\\Anaconda3\\lib\\site-packages\\konlpy\\tag\\_okt.py:16: UserWarning: \"Twitter\" has changed to \"Okt\" since KoNLPy v0.4.5.\n",
      "  warn('\"Twitter\" has changed to \"Okt\" since KoNLPy v0.4.5.')\n"
     ]
    },
    {
     "name": "stdout",
     "output_type": "stream",
     "text": [
      "\r",
      "training was done 248 terms, 202 docs, memory = 0.406 Gb\n",
      "식당이름:  끗집\n",
      "네이버 태그:  []\n",
      "마이 태그 답:  ['숙성회', '연어', '친구', '횟집', '웨이팅', '주말', '예약', '두툼', '술집', '광어', '숙성', '보고', '방어'], \n",
      "==============================================================\n",
      "총 50 개 중  6 번 째 파일입니다.\n",
      "총 180개의 문장이 추출되었습니다.\n"
     ]
    },
    {
     "name": "stderr",
     "output_type": "stream",
     "text": [
      "C:\\ProgramData\\Anaconda3\\lib\\site-packages\\konlpy\\tag\\_okt.py:16: UserWarning: \"Twitter\" has changed to \"Okt\" since KoNLPy v0.4.5.\n",
      "  warn('\"Twitter\" has changed to \"Okt\" since KoNLPy v0.4.5.')\n"
     ]
    },
    {
     "name": "stdout",
     "output_type": "stream",
     "text": [
      "\r",
      "training was done 236 terms, 180 docs, memory = 0.405 Gb\n",
      "식당이름:  나리의집\n",
      "네이버 태그:  ['친절함', '소박한', '친절한', '편안한', '청국장', '순두부', '야식', '고기집', '삼겹살', '나들이', '싱싱한', '데이트', '자극적인', '점심특선']\n",
      "마이 태그 답:  ['냉삼', '냉동삼겹살', '저녁', '삼겹', '삼겹살', '일요일', '주말', '수요미식회', '웨이팅', '대기', '냉동'], \n",
      "==============================================================\n",
      "총 50 개 중  7 번 째 파일입니다.\n",
      "총 220개의 문장이 추출되었습니다.\n"
     ]
    },
    {
     "name": "stderr",
     "output_type": "stream",
     "text": [
      "C:\\ProgramData\\Anaconda3\\lib\\site-packages\\konlpy\\tag\\_okt.py:16: UserWarning: \"Twitter\" has changed to \"Okt\" since KoNLPy v0.4.5.\n",
      "  warn('\"Twitter\" has changed to \"Okt\" since KoNLPy v0.4.5.')\n"
     ]
    },
    {
     "name": "stdout",
     "output_type": "stream",
     "text": [
      "\r",
      "training was done 279 terms, 220 docs, memory = 0.406 Gb\n",
      "식당이름:  다운타우너\n",
      "네이버 태그:  ['느낌있는', '이국적', '친절하고', '심플한', '감각적인', '햄버거', 'tv방영', '수제버거', '바질', '치킨', '핫플레이스', '신선한', '데이트', '재방문', '나들이']\n",
      "마이 태그 답:  ['햄버거', '수제버거', '한남', '버거', '아보카도', '더블', '수요미식회', '저녁', '시간', '아하', '웨이팅'], \n",
      "==============================================================\n",
      "총 50 개 중  8 번 째 파일입니다.\n",
      "총 200개의 문장이 추출되었습니다.\n"
     ]
    },
    {
     "name": "stderr",
     "output_type": "stream",
     "text": [
      "C:\\ProgramData\\Anaconda3\\lib\\site-packages\\konlpy\\tag\\_okt.py:16: UserWarning: \"Twitter\" has changed to \"Okt\" since KoNLPy v0.4.5.\n",
      "  warn('\"Twitter\" has changed to \"Okt\" since KoNLPy v0.4.5.')\n"
     ]
    },
    {
     "name": "stdout",
     "output_type": "stream",
     "text": [
      "\r",
      "training was done 283 terms, 200 docs, memory = 0.406 Gb\n",
      "식당이름:  다츠\n",
      "네이버 태그:  ['친절하고', '고급진', '이국적', '분위기좋은', '세련된', '누들', '레스토랑', '돈가스', '김치볶음밥', '브런치', '핫플레이스', '재방문', '데이트', '나들이', '퓨전중식']\n",
      "마이 태그 답:  ['닷츠', '예약', '레스토랑', '한남', '점심', '아시아', '분위기', '아시안', '브런치', '카페', '가츠', '인기', '웨이팅', '카츠', '산도', '퀴진'], \n",
      "==============================================================\n",
      "총 50 개 중  9 번 째 파일입니다.\n",
      "총 200개의 문장이 추출되었습니다.\n"
     ]
    },
    {
     "name": "stderr",
     "output_type": "stream",
     "text": [
      "C:\\ProgramData\\Anaconda3\\lib\\site-packages\\konlpy\\tag\\_okt.py:16: UserWarning: \"Twitter\" has changed to \"Okt\" since KoNLPy v0.4.5.\n",
      "  warn('\"Twitter\" has changed to \"Okt\" since KoNLPy v0.4.5.')\n"
     ]
    },
    {
     "name": "stdout",
     "output_type": "stream",
     "text": [
      "\r",
      "training was done 275 terms, 200 docs, memory = 0.406 Gb\n",
      "식당이름:  더방갈로\n",
      "네이버 태그:  ['이색적인분위기', '분위기있는', '이국적', '분위기좋은', '몽환적인', '칵테일', '술집', '라운지바', '칵테일바', '펍', '나들이', '재방문', '데이트', '힐링', '핫플레이스']\n",
      "마이 태그 답:  ['친구', '데이트', '칵테일', '할로윈', '불금', '라운지', '분위기', '술집', '핫플레이스', '모래', '파티', '이색', '분장'], \n",
      "==============================================================\n",
      "총 50 개 중  10 번 째 파일입니다.\n",
      "총 190개의 문장이 추출되었습니다.\n"
     ]
    },
    {
     "name": "stderr",
     "output_type": "stream",
     "text": [
      "C:\\ProgramData\\Anaconda3\\lib\\site-packages\\konlpy\\tag\\_okt.py:16: UserWarning: \"Twitter\" has changed to \"Okt\" since KoNLPy v0.4.5.\n",
      "  warn('\"Twitter\" has changed to \"Okt\" since KoNLPy v0.4.5.')\n"
     ]
    },
    {
     "name": "stdout",
     "output_type": "stream",
     "text": [
      "\r",
      "training was done 257 terms, 190 docs, memory = 0.406 Gb\n",
      "식당이름:  더버뮤다\n",
      "네이버 태그:  ['분위기깡패', '분위기있는', '이국적', '분위기좋은', '프라이빗', '레스토랑', '스테이크', '샌드위치', '칵테일바', '브런치', '나들이', '재방문', '데이트', '오픈키친', '핫플레이스']\n",
      "마이 태그 답:  ['파스타', '데이트', '친구', '분위기', '쿠바', '브런치', '술집', '모임', '칵테일', '사평', '명란', '스테이크'], \n",
      "==============================================================\n",
      "총 50 개 중  11 번 째 파일입니다.\n",
      "총 204개의 문장이 추출되었습니다.\n"
     ]
    },
    {
     "name": "stderr",
     "output_type": "stream",
     "text": [
      "C:\\ProgramData\\Anaconda3\\lib\\site-packages\\konlpy\\tag\\_okt.py:16: UserWarning: \"Twitter\" has changed to \"Okt\" since KoNLPy v0.4.5.\n",
      "  warn('\"Twitter\" has changed to \"Okt\" since KoNLPy v0.4.5.')\n"
     ]
    },
    {
     "name": "stdout",
     "output_type": "stream",
     "text": [
      "\r",
      "training was done 275 terms, 204 docs, memory = 0.406 Gb\n",
      "식당이름:  더테이블키친\n",
      "네이버 태그:  []\n",
      "마이 태그 답:  ['스테이크', '뇨끼', '생일', '파스타', '크리스마스', '분위기', '예약', '동반', '한강진', '주말', '인생'], \n",
      "==============================================================\n",
      "총 50 개 중  12 번 째 파일입니다.\n",
      "총 218개의 문장이 추출되었습니다.\n"
     ]
    },
    {
     "name": "stderr",
     "output_type": "stream",
     "text": [
      "C:\\ProgramData\\Anaconda3\\lib\\site-packages\\konlpy\\tag\\_okt.py:16: UserWarning: \"Twitter\" has changed to \"Okt\" since KoNLPy v0.4.5.\n",
      "  warn('\"Twitter\" has changed to \"Okt\" since KoNLPy v0.4.5.')\n"
     ]
    },
    {
     "name": "stdout",
     "output_type": "stream",
     "text": [
      "\r",
      "training was done 281 terms, 218 docs, memory = 0.406 Gb\n",
      "식당이름:  라운드어바웃\n",
      "네이버 태그:  ['아늑한', '깔끔한분위기', '아담한', '소박한', '깔끔한인테리어', '가정식', '일식', '돈가스', '카레', '명란', '나들이', '재방문', '데이트', '신선한', '핫플레이스']\n",
      "마이 태그 답:  ['우동', '친구', '생면', '카레', '한강진', '주말', '한남', '카페', '일본', '가정식', '데이트'], \n",
      "==============================================================\n",
      "총 50 개 중  13 번 째 파일입니다.\n",
      "총 195개의 문장이 추출되었습니다.\n"
     ]
    },
    {
     "name": "stderr",
     "output_type": "stream",
     "text": [
      "C:\\ProgramData\\Anaconda3\\lib\\site-packages\\konlpy\\tag\\_okt.py:16: UserWarning: \"Twitter\" has changed to \"Okt\" since KoNLPy v0.4.5.\n",
      "  warn('\"Twitter\" has changed to \"Okt\" since KoNLPy v0.4.5.')\n"
     ]
    },
    {
     "name": "stdout",
     "output_type": "stream",
     "text": [
      "\r",
      "training was done 271 terms, 195 docs, memory = 0.406 Gb\n",
      "식당이름:  라이너스바베큐\n",
      "네이버 태그:  ['분위기있는', '이국적', '분위기좋은', '캐쥬얼한', '아메리칸스타일', '햄버거', '수제버거', '수제맥주', '튀김', '샌드위치', '핫플레이스', '재방문', '데이트', '힐링', '나들이']\n",
      "마이 태그 답:  ['바베큐', '바비큐', '플래터', '브리', '시간', '주말', '고기', '존맛', '버거', '미국', '인용', '대기', '풀드', '스킷', '포크'], \n",
      "==============================================================\n",
      "총 50 개 중  14 번 째 파일입니다.\n",
      "총 216개의 문장이 추출되었습니다.\n"
     ]
    },
    {
     "name": "stderr",
     "output_type": "stream",
     "text": [
      "C:\\ProgramData\\Anaconda3\\lib\\site-packages\\konlpy\\tag\\_okt.py:16: UserWarning: \"Twitter\" has changed to \"Okt\" since KoNLPy v0.4.5.\n",
      "  warn('\"Twitter\" has changed to \"Okt\" since KoNLPy v0.4.5.')\n"
     ]
    },
    {
     "name": "stdout",
     "output_type": "stream",
     "text": [
      "\r",
      "training was done 285 terms, 216 docs, memory = 0.406 Gb\n",
      "식당이름:  라페름\n",
      "네이버 태그:  ['친절한', '수다떨기좋은', '분위기좋은', '편안한', '심플한', '레스토랑', '주스', '건강식', '리조또', '브런치', '핫플레이스', '데이트', '힐링', '다이어트맛집', '나들이']\n",
      "마이 태그 답:  ['연어', '샐러드', '친구', '스테이크', '한강진', '건강', '브런치', '주말', '건강식', '한남', '다이어트', '아보카도', '푸드', '카페', '슈퍼', '치킨'], \n",
      "==============================================================\n",
      "총 50 개 중  15 번 째 파일입니다.\n",
      "총 204개의 문장이 추출되었습니다.\n"
     ]
    },
    {
     "name": "stderr",
     "output_type": "stream",
     "text": [
      "C:\\ProgramData\\Anaconda3\\lib\\site-packages\\konlpy\\tag\\_okt.py:16: UserWarning: \"Twitter\" has changed to \"Okt\" since KoNLPy v0.4.5.\n",
      "  warn('\"Twitter\" has changed to \"Okt\" since KoNLPy v0.4.5.')\n"
     ]
    },
    {
     "name": "stdout",
     "output_type": "stream",
     "text": [
      "\r",
      "training was done 265 terms, 204 docs, memory = 0.405 Gb\n",
      "식당이름:  랑만\n",
      "네이버 태그:  ['빈티지한', '낭만적인', '이국적', '분위기좋은', '엔틱한', '쌀국수', '레스토랑', '주스', '태국음식', '베트남요리', '핫플레이스', '신선한', '데이트', '숨겨진', '오픈키친']\n",
      "마이 태그 답:  ['쌀국수', '반쎄오', '데이트', '친구', '베트남', '퀴논', '분위기', '와인', '시간', '골목', '생면'], \n",
      "==============================================================\n",
      "총 50 개 중  16 번 째 파일입니다.\n",
      "총 202개의 문장이 추출되었습니다.\n"
     ]
    },
    {
     "name": "stderr",
     "output_type": "stream",
     "text": [
      "C:\\ProgramData\\Anaconda3\\lib\\site-packages\\konlpy\\tag\\_okt.py:16: UserWarning: \"Twitter\" has changed to \"Okt\" since KoNLPy v0.4.5.\n",
      "  warn('\"Twitter\" has changed to \"Okt\" since KoNLPy v0.4.5.')\n"
     ]
    },
    {
     "name": "stdout",
     "output_type": "stream",
     "text": [
      "\r",
      "training was done 248 terms, 202 docs, memory = 0.406 Gb\n",
      "식당이름:  로우앤슬로우\n",
      "네이버 태그:  []\n",
      "마이 태그 답:  ['바베큐', '스테이크', '생일', '스파이크', '고기', '솔직', '영하', '웨이팅', '시간', '텍사스', '대기', '어마'], \n",
      "==============================================================\n",
      "총 50 개 중  17 번 째 파일입니다.\n",
      "총 208개의 문장이 추출되었습니다.\n"
     ]
    },
    {
     "name": "stderr",
     "output_type": "stream",
     "text": [
      "C:\\ProgramData\\Anaconda3\\lib\\site-packages\\konlpy\\tag\\_okt.py:16: UserWarning: \"Twitter\" has changed to \"Okt\" since KoNLPy v0.4.5.\n",
      "  warn('\"Twitter\" has changed to \"Okt\" since KoNLPy v0.4.5.')\n"
     ]
    },
    {
     "name": "stdout",
     "output_type": "stream",
     "text": [
      "\r",
      "training was done 270 terms, 208 docs, memory = 0.406 Gb\n",
      "식당이름:  루틴\n",
      "네이버 태그:  ['아늑한', '아담한', '분위기있는', '분위기좋은', '이국적', '와인바', '레스토랑', '파스타', '프랑스가정식', '뿔레', '핫플레이스', '신선한', '데이트', '코스요리', '나들이']\n",
      "마이 태그 답:  ['데이트', '한강진', '가정식', '저녁', '프랑스', '프렌치', '비스트', '코스', '분위기', '레스토랑', '시간', '스퀘어', '블루'], \n",
      "==============================================================\n",
      "총 50 개 중  18 번 째 파일입니다.\n",
      "총 190개의 문장이 추출되었습니다.\n"
     ]
    },
    {
     "name": "stderr",
     "output_type": "stream",
     "text": [
      "C:\\ProgramData\\Anaconda3\\lib\\site-packages\\konlpy\\tag\\_okt.py:16: UserWarning: \"Twitter\" has changed to \"Okt\" since KoNLPy v0.4.5.\n",
      "  warn('\"Twitter\" has changed to \"Okt\" since KoNLPy v0.4.5.')\n"
     ]
    },
    {
     "name": "stdout",
     "output_type": "stream",
     "text": [
      "\r",
      "training was done 303 terms, 190 docs, memory = 0.406 Gb\n",
      "식당이름:  루프탑야스\n",
      "네이버 태그:  ['러블리한', '고급진', '분위기있는', '분위기좋은', '프라이빗', '레스토랑', '피자', '리조또', '파스타', '브런치', '기념일', '핫플레이스', '데이트', '특별한날', '나들이']\n",
      "마이 태그 답:  ['피자', '생일', '친구', '파스타', '데이트', '특별', '인테리어', '파티', '레스토랑', '분위기', '연말', '브런치', '예약', '사진', '모임', '이름'], \n",
      "==============================================================\n",
      "총 50 개 중  19 번 째 파일입니다.\n",
      "총 210개의 문장이 추출되었습니다.\n"
     ]
    },
    {
     "name": "stderr",
     "output_type": "stream",
     "text": [
      "C:\\ProgramData\\Anaconda3\\lib\\site-packages\\konlpy\\tag\\_okt.py:16: UserWarning: \"Twitter\" has changed to \"Okt\" since KoNLPy v0.4.5.\n",
      "  warn('\"Twitter\" has changed to \"Okt\" since KoNLPy v0.4.5.')\n"
     ]
    },
    {
     "name": "stdout",
     "output_type": "stream",
     "text": [
      "\r",
      "training was done 297 terms, 210 docs, memory = 0.406 Gb\n",
      "식당이름:  마렘마\n",
      "네이버 태그:  ['화려한', '아담한', '분위기좋은', '편안한', '트렌디한', '레스토랑', '바질', '파스타', '리조또', '스테이크', '핫플레이스', '재방문', '데이트', '신선한', '홈메이드']\n",
      "마이 태그 답:  ['친구', '파스타', '스테이크', '셰프', '예약', '한강진', '레스토랑', '리조또', '저녁', '토리아', '분위기', '김지운', '이탈리안', '쿠촐', '쉐프', '밀크', '생일', '피자', '아란치니'], \n",
      "==============================================================\n",
      "총 50 개 중  20 번 째 파일입니다.\n",
      "총 212개의 문장이 추출되었습니다.\n"
     ]
    },
    {
     "name": "stderr",
     "output_type": "stream",
     "text": [
      "C:\\ProgramData\\Anaconda3\\lib\\site-packages\\konlpy\\tag\\_okt.py:16: UserWarning: \"Twitter\" has changed to \"Okt\" since KoNLPy v0.4.5.\n",
      "  warn('\"Twitter\" has changed to \"Okt\" since KoNLPy v0.4.5.')\n"
     ]
    },
    {
     "name": "stdout",
     "output_type": "stream",
     "text": [
      "\r",
      "training was done 269 terms, 212 docs, memory = 0.403 Gb\n",
      "식당이름:  매덕스피자\n",
      "네이버 태그:  ['아담한', '이국적', '분위기좋은', '편안한', '아메리칸스타일', '피맥', '피자', '미트볼', '피자집', '조각피자', '나들이', '재방문', '데이트', '자극적인', '핫플레이스']\n",
      "마이 태그 답:  ['피자', '친구', '피맥', '맥앤치즈', '시간', '미국', '조각', '분위기', '백종원', '웨이팅', '3대천왕'], \n",
      "==============================================================\n",
      "총 50 개 중  21 번 째 파일입니다.\n",
      "총 200개의 문장이 추출되었습니다.\n"
     ]
    },
    {
     "name": "stderr",
     "output_type": "stream",
     "text": [
      "C:\\ProgramData\\Anaconda3\\lib\\site-packages\\konlpy\\tag\\_okt.py:16: UserWarning: \"Twitter\" has changed to \"Okt\" since KoNLPy v0.4.5.\n",
      "  warn('\"Twitter\" has changed to \"Okt\" since KoNLPy v0.4.5.')\n"
     ]
    },
    {
     "name": "stdout",
     "output_type": "stream",
     "text": [
      "\r",
      "training was done 274 terms, 200 docs, memory = 0.406 Gb\n",
      "식당이름:  맥심플랜트\n",
      "네이버 태그:  []\n",
      "마이 태그 답:  ['카페', '친구', '커피', '스토어', '한강진', '주말', '카누', '공간', '노트북', '시간', '위트', '라이터', '라떼', '팝업', '데이트'], \n",
      "==============================================================\n",
      "총 50 개 중  22 번 째 파일입니다.\n",
      "총 206개의 문장이 추출되었습니다.\n"
     ]
    },
    {
     "name": "stderr",
     "output_type": "stream",
     "text": [
      "C:\\ProgramData\\Anaconda3\\lib\\site-packages\\konlpy\\tag\\_okt.py:16: UserWarning: \"Twitter\" has changed to \"Okt\" since KoNLPy v0.4.5.\n",
      "  warn('\"Twitter\" has changed to \"Okt\" since KoNLPy v0.4.5.')\n"
     ]
    },
    {
     "name": "stdout",
     "output_type": "stream",
     "text": [
      "\r",
      "training was done 261 terms, 206 docs, memory = 0.406 Gb\n",
      "식당이름:  모어댄레스\n",
      "네이버 태그:  ['편안한', '분위기좋은', '감각적인', '유니크한', '심플한', '카페', '인테리어소품', '스콘', '케이크', '핫플레이스', '재방문', '데이트', '요즘대세', '나들이']\n",
      "마이 태그 답:  ['친구', '카페', '커피', '편집', '한남', '보난자', '한강진', '정원', '독일', '시간', '인스타그램', '베를린', '분위기', '사진전'], \n",
      "==============================================================\n",
      "총 50 개 중  23 번 째 파일입니다.\n",
      "총 213개의 문장이 추출되었습니다.\n"
     ]
    },
    {
     "name": "stderr",
     "output_type": "stream",
     "text": [
      "C:\\ProgramData\\Anaconda3\\lib\\site-packages\\konlpy\\tag\\_okt.py:16: UserWarning: \"Twitter\" has changed to \"Okt\" since KoNLPy v0.4.5.\n",
      "  warn('\"Twitter\" has changed to \"Okt\" since KoNLPy v0.4.5.')\n"
     ]
    },
    {
     "name": "stdout",
     "output_type": "stream",
     "text": [
      "\r",
      "training was done 262 terms, 213 docs, memory = 0.403 Gb\n",
      "식당이름:  모터시티\n",
      "네이버 태그:  ['친절한', '이국적', '분위기좋은', '심플한', '세련된', 'tv방영', '피맥', '피자', '수박맥주', '파스타', '나들이', '재방문', '데이트', '자극적인', '핫플레이스']\n",
      "마이 태그 답:  ['피자', '피맥', '수요미식회', '보고', '잭슨', '디트로이트', '사평', '분위기', '웨이팅', '스타일', '친구'], \n",
      "==============================================================\n",
      "총 50 개 중  24 번 째 파일입니다.\n",
      "총 220개의 문장이 추출되었습니다.\n"
     ]
    },
    {
     "name": "stderr",
     "output_type": "stream",
     "text": [
      "C:\\ProgramData\\Anaconda3\\lib\\site-packages\\konlpy\\tag\\_okt.py:16: UserWarning: \"Twitter\" has changed to \"Okt\" since KoNLPy v0.4.5.\n",
      "  warn('\"Twitter\" has changed to \"Okt\" since KoNLPy v0.4.5.')\n"
     ]
    },
    {
     "name": "stdout",
     "output_type": "stream",
     "text": [
      "\r",
      "training was done 290 terms, 220 docs, memory = 0.405 Gb\n",
      "식당이름:  바토스\n",
      "네이버 태그:  ['빈티지한', '이국적', '분위기좋은', '시끌시끌한', '편안한', '치킨', '퀘사디아', '펍', '수박맥주', '멕시코음식', '핫플레이스', '신선한', '데이트', '퓨전요리', '나들이']\n",
      "마이 태그 답:  ['타코', '멕시칸', '분위기', '예약', '레스토랑', '맥주', '멕시코', '수요미식회', '주말', '요리', '웨이팅', '저녁', '쉬림프'], \n",
      "==============================================================\n",
      "총 50 개 중  25 번 째 파일입니다.\n",
      "총 214개의 문장이 추출되었습니다.\n"
     ]
    },
    {
     "name": "stderr",
     "output_type": "stream",
     "text": [
      "C:\\ProgramData\\Anaconda3\\lib\\site-packages\\konlpy\\tag\\_okt.py:16: UserWarning: \"Twitter\" has changed to \"Okt\" since KoNLPy v0.4.5.\n",
      "  warn('\"Twitter\" has changed to \"Okt\" since KoNLPy v0.4.5.')\n"
     ]
    },
    {
     "name": "stdout",
     "output_type": "stream",
     "text": [
      "\r",
      "training was done 324 terms, 214 docs, memory = 0.405 Gb\n",
      "식당이름:  빠르크\n",
      "네이버 태그:  ['깔끔한인테리어', '모던한', '분위기좋은', '편안한', '감각적인', '미술관', '레스토랑', '한식당', '가정식', '백반집', '나들이', '퓨전한식', '데이트', '자극적인', '신선한']\n",
      "마이 태그 답:  ['친구', '한식', '파르크', '약속', '저녁', '한정식', '밥집', '한강진', '한식집', '가정식', '리움', '점심', '집밥', '골목', '샐러드'], \n",
      "==============================================================\n",
      "총 50 개 중  26 번 째 파일입니다.\n",
      "총 208개의 문장이 추출되었습니다.\n"
     ]
    },
    {
     "name": "stderr",
     "output_type": "stream",
     "text": [
      "C:\\ProgramData\\Anaconda3\\lib\\site-packages\\konlpy\\tag\\_okt.py:16: UserWarning: \"Twitter\" has changed to \"Okt\" since KoNLPy v0.4.5.\n",
      "  warn('\"Twitter\" has changed to \"Okt\" since KoNLPy v0.4.5.')\n"
     ]
    },
    {
     "name": "stdout",
     "output_type": "stream",
     "text": [
      "\r",
      "training was done 274 terms, 208 docs, memory = 0.405 Gb\n",
      "식당이름:  삐삣버거\n",
      "네이버 태그:  []\n",
      "마이 태그 답:  ['수제버거', '감자튀김', '햄버거', '한강진', '뮤지컬', '패티', '감튀', '칠리'], \n",
      "==============================================================\n",
      "총 50 개 중  27 번 째 파일입니다.\n",
      "총 204개의 문장이 추출되었습니다.\n"
     ]
    },
    {
     "name": "stderr",
     "output_type": "stream",
     "text": [
      "C:\\ProgramData\\Anaconda3\\lib\\site-packages\\konlpy\\tag\\_okt.py:16: UserWarning: \"Twitter\" has changed to \"Okt\" since KoNLPy v0.4.5.\n",
      "  warn('\"Twitter\" has changed to \"Okt\" since KoNLPy v0.4.5.')\n"
     ]
    },
    {
     "name": "stdout",
     "output_type": "stream",
     "text": [
      "\r",
      "training was done 240 terms, 204 docs, memory = 0.406 Gb\n",
      "식당이름:  센시티브서울\n",
      "네이버 태그:  []\n",
      "마이 태그 답:  ['피자', '파스타', '친구', '데이트', '한강진', '카페', '주말', '예약', '분위기', '레스토랑'], \n",
      "==============================================================\n",
      "총 50 개 중  28 번 째 파일입니다.\n",
      "총 206개의 문장이 추출되었습니다.\n"
     ]
    },
    {
     "name": "stderr",
     "output_type": "stream",
     "text": [
      "C:\\ProgramData\\Anaconda3\\lib\\site-packages\\konlpy\\tag\\_okt.py:16: UserWarning: \"Twitter\" has changed to \"Okt\" since KoNLPy v0.4.5.\n",
      "  warn('\"Twitter\" has changed to \"Okt\" since KoNLPy v0.4.5.')\n"
     ]
    },
    {
     "name": "stdout",
     "output_type": "stream",
     "text": [
      "\r",
      "training was done 251 terms, 206 docs, memory = 0.405 Gb\n",
      "식당이름:  써머레인\n",
      "네이버 태그:  ['디저트', '샹그리아', '와플', '케이크', '브런치', '나들이']\n",
      "마이 태그 답:  ['브런치', '친구', '호주', '주말', '카페', '아침', '동반', '썸머', '애견'], \n",
      "==============================================================\n",
      "총 50 개 중  29 번 째 파일입니다.\n",
      "총 186개의 문장이 추출되었습니다.\n"
     ]
    },
    {
     "name": "stderr",
     "output_type": "stream",
     "text": [
      "C:\\ProgramData\\Anaconda3\\lib\\site-packages\\konlpy\\tag\\_okt.py:16: UserWarning: \"Twitter\" has changed to \"Okt\" since KoNLPy v0.4.5.\n",
      "  warn('\"Twitter\" has changed to \"Okt\" since KoNLPy v0.4.5.')\n"
     ]
    },
    {
     "name": "stdout",
     "output_type": "stream",
     "text": [
      "\r",
      "training was done 242 terms, 186 docs, memory = 0.405 Gb\n",
      "식당이름:  앤트러사이트\n",
      "네이버 태그:  ['아늑한', '빈티지한', '모던한', '분위기있는', '분위기좋은', '카페', '로스팅', '디저트', '케이크', '커피공장', '핫플레이스', '신선한', '데이트', '휴식', '나들이']\n",
      "마이 태그 답:  ['카페', '커피', '한남', '라떼', '분위기', '느낌', '건물', '엔트러', '아메리카노', '친구'], \n",
      "==============================================================\n",
      "총 50 개 중  30 번 째 파일입니다.\n",
      "총 210개의 문장이 추출되었습니다.\n"
     ]
    },
    {
     "name": "stderr",
     "output_type": "stream",
     "text": [
      "C:\\ProgramData\\Anaconda3\\lib\\site-packages\\konlpy\\tag\\_okt.py:16: UserWarning: \"Twitter\" has changed to \"Okt\" since KoNLPy v0.4.5.\n",
      "  warn('\"Twitter\" has changed to \"Okt\" since KoNLPy v0.4.5.')\n"
     ]
    },
    {
     "name": "stdout",
     "output_type": "stream",
     "text": [
      "\r",
      "training was done 267 terms, 210 docs, memory = 0.406 Gb\n",
      "식당이름:  오아시스\n",
      "네이버 태그:  ['따뜻한느낌', '이국적', '친절한', '심플한', '치킨', '오믈렛', '케이크', '샌드위치', '브런치', '핫플레이스', '나들이']\n",
      "마이 태그 답:  ['파스타', '에그베네딕트', '한남', '카페', '아침', '주말', '브런치', '분위기', '사진', '레스토랑', '청담', '시간', '일요일'], \n",
      "==============================================================\n",
      "총 50 개 중  31 번 째 파일입니다.\n",
      "총 208개의 문장이 추출되었습니다.\n"
     ]
    },
    {
     "name": "stderr",
     "output_type": "stream",
     "text": [
      "C:\\ProgramData\\Anaconda3\\lib\\site-packages\\konlpy\\tag\\_okt.py:16: UserWarning: \"Twitter\" has changed to \"Okt\" since KoNLPy v0.4.5.\n",
      "  warn('\"Twitter\" has changed to \"Okt\" since KoNLPy v0.4.5.')\n"
     ]
    },
    {
     "name": "stdout",
     "output_type": "stream",
     "text": [
      "\r",
      "training was done 233 terms, 208 docs, memory = 0.406 Gb\n",
      "식당이름:  원인어밀리언\n",
      "네이버 태그:  ['아늑한', '분위기깡패', '분위기좋은', '감각적인', '러블리한', '카페', '브라우니', '티라미수', '디저트', '케이크', '핫플레이스', '비오는날', '데이트', '힐링', '나들이']\n",
      "마이 태그 답:  ['핑크', '카페', '한강진', '커피', '분위기', '인스타', '핫플레이스', '디저트', '사진', '동반', '애견', '친구', '데이트', '파스타'], \n",
      "==============================================================\n",
      "총 50 개 중  32 번 째 파일입니다.\n",
      "총 204개의 문장이 추출되었습니다.\n"
     ]
    },
    {
     "name": "stderr",
     "output_type": "stream",
     "text": [
      "C:\\ProgramData\\Anaconda3\\lib\\site-packages\\konlpy\\tag\\_okt.py:16: UserWarning: \"Twitter\" has changed to \"Okt\" since KoNLPy v0.4.5.\n",
      "  warn('\"Twitter\" has changed to \"Okt\" since KoNLPy v0.4.5.')\n"
     ]
    },
    {
     "name": "stdout",
     "output_type": "stream",
     "text": [
      "\r",
      "training was done 267 terms, 204 docs, memory = 0.406 Gb\n",
      "식당이름:  은마양대창\n",
      "네이버 태그:  []\n",
      "마이 태그 답:  ['곱창', '대창', '양대창', '친구', '덮밥', '곱창전골', '시간', '웨이팅', '구이', '핫플레이스', '한강진', '이태원로', '양념', '데이트'], \n",
      "==============================================================\n",
      "총 50 개 중  33 번 째 파일입니다.\n",
      "총 204개의 문장이 추출되었습니다.\n"
     ]
    },
    {
     "name": "stderr",
     "output_type": "stream",
     "text": [
      "C:\\ProgramData\\Anaconda3\\lib\\site-packages\\konlpy\\tag\\_okt.py:16: UserWarning: \"Twitter\" has changed to \"Okt\" since KoNLPy v0.4.5.\n",
      "  warn('\"Twitter\" has changed to \"Okt\" since KoNLPy v0.4.5.')\n"
     ]
    },
    {
     "name": "stdout",
     "output_type": "stream",
     "text": [
      "\r",
      "training was done 257 terms, 204 docs, memory = 0.406 Gb\n",
      "식당이름:  이타인\n",
      "네이버 태그:  []\n",
      "마이 태그 답:  ['뇨끼', '파스타', '친구', '레스토랑', '이탈리안', '이탈리아', '평일', '예약', '호텔', '분위기', '주말', '모임', '동기', '튀김', '바질페스토'], \n",
      "==============================================================\n",
      "총 50 개 중  34 번 째 파일입니다.\n",
      "총 202개의 문장이 추출되었습니다.\n"
     ]
    },
    {
     "name": "stderr",
     "output_type": "stream",
     "text": [
      "C:\\ProgramData\\Anaconda3\\lib\\site-packages\\konlpy\\tag\\_okt.py:16: UserWarning: \"Twitter\" has changed to \"Okt\" since KoNLPy v0.4.5.\n",
      "  warn('\"Twitter\" has changed to \"Okt\" since KoNLPy v0.4.5.')\n"
     ]
    },
    {
     "name": "stdout",
     "output_type": "stream",
     "text": [
      "\r",
      "training was done 264 terms, 202 docs, memory = 0.406 Gb\n",
      "식당이름:  이태원곱\n",
      "네이버 태그:  []\n",
      "마이 태그 답:  ['곱창', '소곱창', '회식', '데이트', '가성비', '단체', '살얼음', '모듬', '창집', '친구', '생맥주'], \n",
      "==============================================================\n",
      "총 50 개 중  35 번 째 파일입니다.\n",
      "총 202개의 문장이 추출되었습니다.\n"
     ]
    },
    {
     "name": "stderr",
     "output_type": "stream",
     "text": [
      "C:\\ProgramData\\Anaconda3\\lib\\site-packages\\konlpy\\tag\\_okt.py:16: UserWarning: \"Twitter\" has changed to \"Okt\" since KoNLPy v0.4.5.\n",
      "  warn('\"Twitter\" has changed to \"Okt\" since KoNLPy v0.4.5.')\n"
     ]
    },
    {
     "name": "stdout",
     "output_type": "stream",
     "text": [
      "\r",
      "training was done 262 terms, 202 docs, memory = 0.406 Gb\n",
      "식당이름:  이태원우육미엔\n",
      "네이버 태그:  ['느낌있는', '이국적', '신비로운', '심플한', '세련된', '중국집', '꿔바로우', '덮밥', '고량주', '일본라면', '나들이', '재방문', '데이트', '오픈키친', '새로운맛집']\n",
      "마이 태그 답:  ['우육미엔', '우육면', '친구', '피자', '한강진', '미슐랭', '대만', '골목', '미쉐린', '요리', '점심', '만두'], \n",
      "==============================================================\n",
      "총 50 개 중  36 번 째 파일입니다.\n",
      "총 200개의 문장이 추출되었습니다.\n"
     ]
    },
    {
     "name": "stderr",
     "output_type": "stream",
     "text": [
      "C:\\ProgramData\\Anaconda3\\lib\\site-packages\\konlpy\\tag\\_okt.py:16: UserWarning: \"Twitter\" has changed to \"Okt\" since KoNLPy v0.4.5.\n",
      "  warn('\"Twitter\" has changed to \"Okt\" since KoNLPy v0.4.5.')\n"
     ]
    },
    {
     "name": "stdout",
     "output_type": "stream",
     "text": [
      "\r",
      "training was done 261 terms, 200 docs, memory = 0.406 Gb\n",
      "식당이름:  장미쌀롱\n",
      "네이버 태그:  []\n",
      "마이 태그 답:  ['친구', '파스타', '데이트', '와인', '피자', '술집', '분위기', '비노', '친친', '테라스', '주말', '저렴', '가성비', '한잔', '안주', '생일'], \n",
      "==============================================================\n",
      "총 50 개 중  37 번 째 파일입니다.\n",
      "총 174개의 문장이 추출되었습니다.\n"
     ]
    },
    {
     "name": "stderr",
     "output_type": "stream",
     "text": [
      "C:\\ProgramData\\Anaconda3\\lib\\site-packages\\konlpy\\tag\\_okt.py:16: UserWarning: \"Twitter\" has changed to \"Okt\" since KoNLPy v0.4.5.\n",
      "  warn('\"Twitter\" has changed to \"Okt\" since KoNLPy v0.4.5.')\n"
     ]
    },
    {
     "name": "stdout",
     "output_type": "stream",
     "text": [
      "\r",
      "training was done 217 terms, 174 docs, memory = 0.406 Gb\n",
      "식당이름:  재재식당\n",
      "네이버 태그:  []\n",
      "마이 태그 답:  ['돈까스', '데이트', '친구', '골목', '돈가스', '카레', '안심', '등심', '시금치', '주말', '저녁'], \n",
      "==============================================================\n",
      "총 50 개 중  38 번 째 파일입니다.\n",
      "총 200개의 문장이 추출되었습니다.\n"
     ]
    },
    {
     "name": "stderr",
     "output_type": "stream",
     "text": [
      "C:\\ProgramData\\Anaconda3\\lib\\site-packages\\konlpy\\tag\\_okt.py:16: UserWarning: \"Twitter\" has changed to \"Okt\" since KoNLPy v0.4.5.\n",
      "  warn('\"Twitter\" has changed to \"Okt\" since KoNLPy v0.4.5.')\n"
     ]
    },
    {
     "name": "stdout",
     "output_type": "stream",
     "text": [
      "\r",
      "training was done 269 terms, 200 docs, memory = 0.406 Gb\n",
      "식당이름:  쟈니덤플링\n",
      "네이버 태그:  ['아담한', '이국적', '분위기좋은', '심플한', '깨끗한', '만두', '군만두', '만두국', '딤섬', '새우만두', '나들이', '재방문', '데이트', '숨어있는', '핫플레이스']\n",
      "마이 태그 답:  ['군만두', '만두', '친구', '마파두부', '물만두', '시간', '중국', '수요미식회', '덤블링', '반달', '새우'], \n",
      "==============================================================\n",
      "총 50 개 중  39 번 째 파일입니다.\n",
      "총 212개의 문장이 추출되었습니다.\n"
     ]
    },
    {
     "name": "stderr",
     "output_type": "stream",
     "text": [
      "C:\\ProgramData\\Anaconda3\\lib\\site-packages\\konlpy\\tag\\_okt.py:16: UserWarning: \"Twitter\" has changed to \"Okt\" since KoNLPy v0.4.5.\n",
      "  warn('\"Twitter\" has changed to \"Okt\" since KoNLPy v0.4.5.')\n"
     ]
    },
    {
     "name": "stdout",
     "output_type": "stream",
     "text": [
      "\r",
      "training was done 266 terms, 212 docs, memory = 0.404 Gb\n",
      "식당이름:  저스틴스테이크\n",
      "네이버 태그:  ['빈티지한', '유럽풍', '분위기있는', '분위기좋은', '고급스러운', '크림파스타', '레스토랑', '브런치', '미트볼', '스테이크', '연말모임', '나들이', '신선한', '데이트', '핫플레이스']\n",
      "마이 태그 답:  ['스테이크', '파스타', '데이트', '친구', '촬영', '다른', '드라마', '가성비', '레스토랑', '분위기', '존맛', '주말', '한우'], \n",
      "==============================================================\n",
      "총 50 개 중  40 번 째 파일입니다.\n",
      "총 207개의 문장이 추출되었습니다.\n"
     ]
    },
    {
     "name": "stderr",
     "output_type": "stream",
     "text": [
      "C:\\ProgramData\\Anaconda3\\lib\\site-packages\\konlpy\\tag\\_okt.py:16: UserWarning: \"Twitter\" has changed to \"Okt\" since KoNLPy v0.4.5.\n",
      "  warn('\"Twitter\" has changed to \"Okt\" since KoNLPy v0.4.5.')\n"
     ]
    },
    {
     "name": "stdout",
     "output_type": "stream",
     "text": [
      "\r",
      "training was done 273 terms, 207 docs, memory = 0.406 Gb\n",
      "식당이름:  키에리\n",
      "네이버 태그:  ['아늑한', '작은공간', '아기자기', '친절한', '따뜻한분위기', '카페', 'tv방영', '스콘', '디저트', '케이크', '홈메이드', '데이트', '자극적인', '유기농', '나들이']\n",
      "마이 태그 답:  ['치즈케이크', '무화과', '친구', '케이크', '카페', '디저트', '건강', '케익', '스콘', '수요미식회', '아하', '사용', '시간', '버터', '보고', '베이커리', '말차', '비건', '고르곤졸라'], \n",
      "==============================================================\n",
      "총 50 개 중  41 번 째 파일입니다.\n",
      "총 206개의 문장이 추출되었습니다.\n"
     ]
    },
    {
     "name": "stderr",
     "output_type": "stream",
     "text": [
      "C:\\ProgramData\\Anaconda3\\lib\\site-packages\\konlpy\\tag\\_okt.py:16: UserWarning: \"Twitter\" has changed to \"Okt\" since KoNLPy v0.4.5.\n",
      "  warn('\"Twitter\" has changed to \"Okt\" since KoNLPy v0.4.5.')\n"
     ]
    },
    {
     "name": "stdout",
     "output_type": "stream",
     "text": [
      "\r",
      "training was done 248 terms, 206 docs, memory = 0.406 Gb\n",
      "식당이름:  타파스바\n",
      "네이버 태그:  ['편안한분위기', '분위기있는', '이국적', '분위기좋은', '친절해서', '피자', '술집', '샹그리아', '스페인요리', '펍', '나들이', '재방문', '데이트', '착한가격', '핫플레이스']\n",
      "마이 태그 답:  ['타파스', '빠에야', '샹그리아', '친구', '감바스', '스페인', '칵테일', '술집', '분위기', '요리', '상그리아'], \n",
      "==============================================================\n",
      "총 50 개 중  42 번 째 파일입니다.\n",
      "총 206개의 문장이 추출되었습니다.\n"
     ]
    },
    {
     "name": "stderr",
     "output_type": "stream",
     "text": [
      "C:\\ProgramData\\Anaconda3\\lib\\site-packages\\konlpy\\tag\\_okt.py:16: UserWarning: \"Twitter\" has changed to \"Okt\" since KoNLPy v0.4.5.\n",
      "  warn('\"Twitter\" has changed to \"Okt\" since KoNLPy v0.4.5.')\n"
     ]
    },
    {
     "name": "stdout",
     "output_type": "stream",
     "text": [
      "\r",
      "training was done 245 terms, 206 docs, memory = 0.406 Gb\n",
      "식당이름:  탄탈라이즈\n",
      "네이버 태그:  ['감각적인', '심플한', '카페', '브라우니', '스콘', '디저트', '케이크', '사진찍기']\n",
      "마이 태그 답:  ['플랫화이트', '친구', '베이커리', '카페', '커피', '분위기', '디저트', '스콘', '감성', '사진', '자리'], \n",
      "==============================================================\n",
      "총 50 개 중  43 번 째 파일입니다.\n",
      "총 188개의 문장이 추출되었습니다.\n"
     ]
    },
    {
     "name": "stderr",
     "output_type": "stream",
     "text": [
      "C:\\ProgramData\\Anaconda3\\lib\\site-packages\\konlpy\\tag\\_okt.py:16: UserWarning: \"Twitter\" has changed to \"Okt\" since KoNLPy v0.4.5.\n",
      "  warn('\"Twitter\" has changed to \"Okt\" since KoNLPy v0.4.5.')\n"
     ]
    },
    {
     "name": "stdout",
     "output_type": "stream",
     "text": [
      "\r",
      "training was done 199 terms, 188 docs, memory = 0.404 Gb\n",
      "식당이름:  텅앤그루브조인트\n",
      "네이버 태그:  ['분위기깡패', '고급진', '분위기좋은', '프라이빗', '세련된', '한우', '김치찌개', '고기집', '양고기', '삼겹살', '핫플레이스', '신선한', '데이트', '오픈키친', '나들이']\n",
      "마이 태그 답:  ['한우', '회식', '양고기', '데이트', '고기', '주말', '모임', '가이드', '소고기', '미슐랭', '단골집', '연속', '코스', '베스트', '미쉐린', '숙성', '분위기', '소개팅', '생일', '양갈비'], \n",
      "==============================================================\n",
      "총 50 개 중  44 번 째 파일입니다.\n",
      "총 206개의 문장이 추출되었습니다.\n"
     ]
    },
    {
     "name": "stderr",
     "output_type": "stream",
     "text": [
      "C:\\ProgramData\\Anaconda3\\lib\\site-packages\\konlpy\\tag\\_okt.py:16: UserWarning: \"Twitter\" has changed to \"Okt\" since KoNLPy v0.4.5.\n",
      "  warn('\"Twitter\" has changed to \"Okt\" since KoNLPy v0.4.5.')\n"
     ]
    },
    {
     "name": "stdout",
     "output_type": "stream",
     "text": [
      "\r",
      "training was done 260 terms, 206 docs, memory = 0.406 Gb\n",
      "식당이름:  테이프\n",
      "네이버 태그:  []\n",
      "마이 태그 답:  ['우주', '카페', '루프', '케이크', '분위기', '사진', '주말', '영롱', '인스타', '주문', '조각', '디저트', '친구'], \n",
      "==============================================================\n",
      "총 50 개 중  45 번 째 파일입니다.\n",
      "총 190개의 문장이 추출되었습니다.\n"
     ]
    },
    {
     "name": "stderr",
     "output_type": "stream",
     "text": [
      "C:\\ProgramData\\Anaconda3\\lib\\site-packages\\konlpy\\tag\\_okt.py:16: UserWarning: \"Twitter\" has changed to \"Okt\" since KoNLPy v0.4.5.\n",
      "  warn('\"Twitter\" has changed to \"Okt\" since KoNLPy v0.4.5.')\n"
     ]
    },
    {
     "name": "stdout",
     "output_type": "stream",
     "text": [
      "\r",
      "training was done 301 terms, 190 docs, memory = 0.406 Gb\n",
      "식당이름:  트로이카\n",
      "네이버 태그:  ['아늑한', '이국적', '친절한', '따듯한분위기', '아기자기', '만두', '레스토랑', '가정식', '보드카', '양고기', '나들이', '이색적인음식', '데이트', '색다른음식', '재방문']\n",
      "마이 태그 답:  ['만두', '친구', '러시아', '여행', '요리', '선수', '다양', '이색', '세계', '분위기', '한국'], \n",
      "==============================================================\n",
      "총 50 개 중  46 번 째 파일입니다.\n",
      "총 214개의 문장이 추출되었습니다.\n"
     ]
    },
    {
     "name": "stderr",
     "output_type": "stream",
     "text": [
      "C:\\ProgramData\\Anaconda3\\lib\\site-packages\\konlpy\\tag\\_okt.py:16: UserWarning: \"Twitter\" has changed to \"Okt\" since KoNLPy v0.4.5.\n",
      "  warn('\"Twitter\" has changed to \"Okt\" since KoNLPy v0.4.5.')\n"
     ]
    },
    {
     "name": "stdout",
     "output_type": "stream",
     "text": [
      "\r",
      "training was done 323 terms, 214 docs, memory = 0.406 Gb\n",
      "식당이름:  파르크\n",
      "네이버 태그:  ['깔끔한인테리어', '모던한', '분위기좋은', '편안한', '감각적인', '미술관', '레스토랑', '한식당', '가정식', '백반집', '나들이', '퓨전한식', '데이트', '자극적인', '신선한']\n",
      "마이 태그 답:  ['친구', '한식', '용산', '밥집', '한정식', '약속', '저녁', '한식집', '가정식', '리움', '한강진', '점심', '집밥', '골목', '샐러드'], \n",
      "==============================================================\n",
      "총 50 개 중  47 번 째 파일입니다.\n",
      "총 188개의 문장이 추출되었습니다.\n"
     ]
    },
    {
     "name": "stderr",
     "output_type": "stream",
     "text": [
      "C:\\ProgramData\\Anaconda3\\lib\\site-packages\\konlpy\\tag\\_okt.py:16: UserWarning: \"Twitter\" has changed to \"Okt\" since KoNLPy v0.4.5.\n",
      "  warn('\"Twitter\" has changed to \"Okt\" since KoNLPy v0.4.5.')\n"
     ]
    },
    {
     "name": "stdout",
     "output_type": "stream",
     "text": [
      "\r",
      "training was done 219 terms, 188 docs, memory = 0.406 Gb\n",
      "식당이름:  파이프\n",
      "네이버 태그:  ['트렌디한', '분위기있는', '분위기좋은', '심플한', '수다떨기좋은', '플리마켓', '피맥', '피자', '맥주집', '생맥주', '핫플레이스', '자극적인', '데이트', '힐링', '나들이']\n",
      "마이 태그 답:  ['피자', '피맥', '감자튀김', '감튀', '시간', '페퍼로니', '포테이토', '맥주', '웨이팅', '치즈', '마감', '지하', '토요일', '평일'], \n",
      "==============================================================\n",
      "총 50 개 중  48 번 째 파일입니다.\n",
      "총 200개의 문장이 추출되었습니다.\n"
     ]
    },
    {
     "name": "stderr",
     "output_type": "stream",
     "text": [
      "C:\\ProgramData\\Anaconda3\\lib\\site-packages\\konlpy\\tag\\_okt.py:16: UserWarning: \"Twitter\" has changed to \"Okt\" since KoNLPy v0.4.5.\n",
      "  warn('\"Twitter\" has changed to \"Okt\" since KoNLPy v0.4.5.')\n"
     ]
    },
    {
     "name": "stdout",
     "output_type": "stream",
     "text": [
      "\r",
      "training was done 283 terms, 200 docs, memory = 0.406 Gb\n",
      "식당이름:  패션5\n",
      "네이버 태그:  ['고급진', '재미있는', '분위기좋은', '아기자기', '세련된', '타르트', '마카롱', '디저트카페', '케이크', '빵집', '핫플레이스', '데이트', '화이트데이', '특별한날', '나들이']\n",
      "마이 태그 답:  ['베이커리', '생일', '카페', '데이트', '케이크', '파이브', '건물', '딸기', '케익', '디저트', '주차', '천국', '시간', '젤라또'], \n",
      "==============================================================\n",
      "총 50 개 중  49 번 째 파일입니다.\n",
      "총 214개의 문장이 추출되었습니다.\n"
     ]
    },
    {
     "name": "stderr",
     "output_type": "stream",
     "text": [
      "C:\\ProgramData\\Anaconda3\\lib\\site-packages\\konlpy\\tag\\_okt.py:16: UserWarning: \"Twitter\" has changed to \"Okt\" since KoNLPy v0.4.5.\n",
      "  warn('\"Twitter\" has changed to \"Okt\" since KoNLPy v0.4.5.')\n"
     ]
    },
    {
     "name": "stdout",
     "output_type": "stream",
     "text": [
      "\r",
      "training was done 277 terms, 214 docs, memory = 0.406 Gb\n",
      "식당이름:  프로스트\n",
      "네이버 태그:  ['빈티지한', '분위기있는', '이국적', '분위기좋은', '고급스러운', '술집', '라운지바', '펍', '칵테일', '샹그리아', '핫플레이스', '데이트', '요즘대세', '특별한날', '나들이']\n",
      "마이 태그 답:  ['친구', '분위기', '파티', '핫플레이스', '맥주', '라운지', '할로윈', '술집', '칵테일', '연말', '헌팅', '글램', '크리스마스', '거리', '저녁'], \n",
      "==============================================================\n",
      "총 50 개 중  50 번 째 파일입니다.\n",
      "총 204개의 문장이 추출되었습니다.\n"
     ]
    },
    {
     "name": "stderr",
     "output_type": "stream",
     "text": [
      "C:\\ProgramData\\Anaconda3\\lib\\site-packages\\konlpy\\tag\\_okt.py:16: UserWarning: \"Twitter\" has changed to \"Okt\" since KoNLPy v0.4.5.\n",
      "  warn('\"Twitter\" has changed to \"Okt\" since KoNLPy v0.4.5.')\n"
     ]
    },
    {
     "name": "stdout",
     "output_type": "stream",
     "text": [
      "\r",
      "training was done 262 terms, 204 docs, memory = 0.406 Gb\n",
      "식당이름:  할랄가이즈\n",
      "네이버 태그:  ['재미있는', '고급진', '이국적', '친절하고', '깨끗한', '치킨', '길거리음식', '중동음식', '샌드위치', '양고기', '나들이', '신선한', '데이트', '재방문', '핫플레이스']\n",
      "마이 태그 답:  ['케밥', '플래터', '친구', '뉴욕', '저렴', '점심', '미국', '여행', '푸드', '한국', '트럭'], \n",
      "==============================================================\n"
     ]
    }
   ],
   "source": [
    "# 폴더 이름\n",
    "path = './data/restaurants/itaewon/'\n",
    "files_group = [ word for word in os.listdir(path) if word[-3:] == 'csv']\n",
    "\n",
    "save_path = './result/itaewon.csv'\n",
    "final_data = []\n",
    "\n",
    "# 결과 출력\n",
    "for yy in range(0, len(files_group)):\n",
    "    after_preprocess = preprocess(path, yy)\n",
    "    a, b, c = outputs(after_preprocess[0], after_preprocess[1] , after_preprocess[2],  after_preprocess[3], after_preprocess[4])\n",
    "    tmp = []\n",
    "    tmp.append(a)\n",
    "    tmp.append(b)\n",
    "    tmp.append(c)\n",
    "    print()\n",
    "    print('==============================================================')\n",
    "    final_data.append(tmp)\n",
    "    \n",
    "# 데이터 저장\n",
    "results = pd.DataFrame(final_data)\n",
    "results.rename(columns = {0: 'name', 1: 'naver_tag', 2: 'my_tag'}, inplace = True)\n",
    "results.to_csv(save_path, index = False, encoding = 'euc-kr')"
   ]
  },
  {
   "cell_type": "code",
   "execution_count": null,
   "metadata": {},
   "outputs": [],
   "source": []
  }
 ],
 "metadata": {
  "kernelspec": {
   "display_name": "Python 3",
   "language": "python",
   "name": "python3"
  },
  "language_info": {
   "codemirror_mode": {
    "name": "ipython",
    "version": 3
   },
   "file_extension": ".py",
   "mimetype": "text/x-python",
   "name": "python",
   "nbconvert_exporter": "python",
   "pygments_lexer": "ipython3",
   "version": "3.7.4"
  }
 },
 "nbformat": 4,
 "nbformat_minor": 4
}
