{
 "cells": [
  {
   "cell_type": "code",
   "execution_count": 2,
   "metadata": {},
   "outputs": [],
   "source": [
    "import requests\n",
    "import pandas as pd\n",
    "from bs4 import BeautifulSoup\n",
    "import re\n",
    "import numpy as np\n",
    "from tqdm import tqdm"
   ]
  },
  {
   "cell_type": "code",
   "execution_count": 3,
   "metadata": {},
   "outputs": [],
   "source": [
    "def crawl_rest(main_url, tab_url, page_count, rest_name):\n",
    "    r2= requests.get(main_url)\n",
    "    soup2 = BeautifulSoup(r2.text, 'html.parser')\n",
    "    score = float(soup2.find_all('span', attrs = {'class': 'score'})[0].text.split('/')[0].strip())\n",
    "    tags = [re.sub('[,.]', '', val.text).strip() for val in soup2.find_all('span', attrs = {'class': 'kwd'})]\n",
    "\n",
    " \n",
    "    name_ = []\n",
    "    title_ = []\n",
    "    descrip_ = []\n",
    "    rest_review_url= list()\n",
    "    \n",
    "    for i in range(page_count):\n",
    "        try:\n",
    "            url = tab_url[:-1] + str(i)\n",
    "            r= requests.get(url)\n",
    "            soup = BeautifulSoup(r.text, 'html.parser')\n",
    "            rests = soup.find_all('li', attrs = {'class': 'list_item type_review'})\n",
    "            name = [rest_name] * len(rests)\n",
    "            title = [rests[j].find('a', attrs = {'class': 'name'}).text for j in range(len(rests))]\n",
    "            descrip = [rests[j].find('div', attrs = {'class': 'txt ellp2'}).text for j in range(len(rests))]\n",
    "            temp = [ rests[j].find('a', attrs = {'class': 'thumb_area fl'}).get('href') for j in range(len(rests))]\n",
    "            name_.extend(name)\n",
    "            title_.extend(title)\n",
    "            descrip_.extend(descrip)\n",
    "            rest_review_url.extend(temp)\n",
    "        except:\n",
    "            pass\n",
    "    rests_count = len(name_)\n",
    "\n",
    "    df = pd.concat([pd.Series(name_), pd.Series(title_), pd.Series(rest_review_url), pd.Series(descrip_), pd.Series([score]  * rests_count), pd.Series(list([tags]) * rests_count)], axis = 1)\n",
    "    df.rename(columns = {0: 'name', 1:'title', 2: 'url', 3: 'description', 4: 'score', 5: 'tags'}, inplace = True)\n",
    "    \n",
    "    return df"
   ]
  },
  {
   "cell_type": "code",
   "execution_count": 4,
   "metadata": {},
   "outputs": [],
   "source": [
    "# 저스틴스테이크\n",
    "main_url = 'https://store.naver.com/restaurants/detail?entry=pll&id=36797805&query=%EC%A0%80%EC%8A%A4%ED%8B%B4%EC%8A%A4%ED%85%8C%EC%9D%B4%ED%81%AC'\n",
    "tab_url = 'https://store.naver.com/restaurants/detail?entry=pll&id=36797805&query=%EC%A0%80%EC%8A%A4%ED%8B%B4%EC%8A%A4%ED%85%8C%EC%9D%B4%ED%81%AC&tab=fsasReview&tabPage=1'\n",
    "data = crawl_rest(main_url, tab_url, 11, '저스틴스테이크')\n",
    "data.to_csv('./data/restaurants/itaewon/저스틴스테이크.csv', encoding = 'utf-8', index = False)"
   ]
  },
  {
   "cell_type": "code",
   "execution_count": 5,
   "metadata": {},
   "outputs": [],
   "source": [
    "# 로우앤슬로우\n",
    "main_url = 'https://store.naver.com/restaurants/detail?entry=pll&id=1414626974&query=%EB%A1%9C%EC%9A%B0%EC%95%A4%EC%8A%AC%EB%A1%9C%EC%9A%B0'\n",
    "tab_url = 'https://store.naver.com/restaurants/detail?entry=pll&id=1414626974&query=%EB%A1%9C%EC%9A%B0%EC%95%A4%EC%8A%AC%EB%A1%9C%EC%9A%B0&tab=fsasReview&tabPage=1'\n",
    "\n",
    "data = crawl_rest(main_url, tab_url, 11, '로우앤슬로우')\n",
    "data.to_csv('./data/restaurants/itaewon/로우앤슬로우.csv', encoding = 'utf-8', index = False)"
   ]
  },
  {
   "cell_type": "code",
   "execution_count": 6,
   "metadata": {},
   "outputs": [],
   "source": [
    "# 곱창도선생\n",
    "main_url = 'https://store.naver.com/restaurants/detail?entry=pll&id=1194075787&query=%EA%B3%B1%EC%B0%BD%EB%8F%84%EC%84%A0%EC%83%9D'\n",
    "tab_url = 'https://store.naver.com/restaurants/detail?entry=pll&id=1194075787&query=%EA%B3%B1%EC%B0%BD%EB%8F%84%EC%84%A0%EC%83%9D&tab=fsasReview&tabPage=1'\n",
    "\n",
    "data = crawl_rest(main_url, tab_url, 11, '곱창도선생')\n",
    "data.to_csv('./data/restaurants/itaewon/곱창도선생.csv', encoding = 'utf-8', index = False)"
   ]
  },
  {
   "cell_type": "code",
   "execution_count": 7,
   "metadata": {},
   "outputs": [],
   "source": [
    "# 패션5\n",
    "main_url = 'https://store.naver.com/restaurants/detail?entry=pll&id=12851539&query=%ED%8C%A8%EC%85%985'\n",
    "tab_url = 'https://store.naver.com/restaurants/detail?entry=pll&id=12851539&query=%ED%8C%A8%EC%85%985&tab=fsasReview&tabPage=1'\n",
    "\n",
    "data = crawl_rest(main_url, tab_url, 11, '패션5')\n",
    "data.to_csv('./data/restaurants/itaewon/패션5.csv', encoding = 'utf-8', index = False)"
   ]
  },
  {
   "cell_type": "code",
   "execution_count": 8,
   "metadata": {},
   "outputs": [],
   "source": [
    "# 키에리\n",
    "main_url = 'https://store.naver.com/restaurants/detail?entry=pll&id=37848376&query=%ED%82%A4%EC%97%90%EB%A6%AC'\n",
    "tab_url = 'https://store.naver.com/restaurants/detail?entry=pll&id=37848376&query=%ED%82%A4%EC%97%90%EB%A6%AC&tab=fsasReview&tabPage=1'\n",
    "\n",
    "data = crawl_rest(main_url, tab_url, 11, '키에리')\n",
    "data.to_csv('./data/restaurants/itaewon/키에리.csv', encoding = 'utf-8', index = False)"
   ]
  },
  {
   "cell_type": "code",
   "execution_count": null,
   "metadata": {},
   "outputs": [],
   "source": [
    "# 다츠 DOTS\n",
    "main_url = 'https://store.naver.com/restaurants/detail?entry=pll&id=247810366&query=DOTZ'\n",
    "tab_url = 'https://store.naver.com/restaurants/detail?entry=pll&id=247810366&query=DOTZ&tab=fsasReview&tabPage=1'\n",
    "\n",
    "data = crawl_rest(main_url, tab_url, 11, 'DOTS')\n",
    "data.to_csv('./data/restaurants/itaewon/DOTS.csv', encoding = 'utf-8', index = False)"
   ]
  },
  {
   "cell_type": "code",
   "execution_count": 12,
   "metadata": {},
   "outputs": [],
   "source": [
    "# 다운타우너\n",
    "main_url = 'https://store.naver.com/restaurants/detail?entry=pll&id=37822450&query=%EB%8B%A4%EC%9A%B4%ED%83%80%EC%9A%B0%EB%84%88%20%ED%95%9C%EB%82%A8%EC%A0%90'\n",
    "tab_url = 'https://store.naver.com/restaurants/detail?entry=pll&id=37822450&query=%EB%8B%A4%EC%9A%B4%ED%83%80%EC%9A%B0%EB%84%88%20%ED%95%9C%EB%82%A8%EC%A0%90&tab=fsasReview&tabPage=1'\n",
    "\n",
    "data = crawl_rest(main_url, tab_url, 11, '다운타우너')\n",
    "data.to_csv('./data/restaurants/itaewon/다운타우너.csv', encoding = 'utf-8', index = False)"
   ]
  },
  {
   "cell_type": "code",
   "execution_count": 13,
   "metadata": {},
   "outputs": [],
   "source": [
    "# 바토스\n",
    "main_url = 'https://store.naver.com/restaurants/detail?entry=pll&id=21215392&query=%EB%B0%94%ED%86%A0%EC%8A%A4%20%EC%9D%B4%ED%83%9C%EC%9B%90%EC%A0%90'\n",
    "tab_url = 'https://store.naver.com/restaurants/detail?entry=pll&id=21215392&query=%EB%B0%94%ED%86%A0%EC%8A%A4%20%EC%9D%B4%ED%83%9C%EC%9B%90%EC%A0%90&tab=fsasReview&tabPage=1'\n",
    "\n",
    "data = crawl_rest(main_url, tab_url, 12, '바토스')\n",
    "data.to_csv('./data/restaurants/itaewon/바토스.csv', encoding = 'utf-8', index = False)"
   ]
  },
  {
   "cell_type": "code",
   "execution_count": 14,
   "metadata": {},
   "outputs": [],
   "source": [
    "# 더버뮤다\n",
    "main_url = 'https://store.naver.com/restaurants/detail?entry=pll&id=35664661&query=%EB%8D%94%EB%B2%84%EB%AE%A4%EB%8B%A4'\n",
    "tab_url = 'https://store.naver.com/restaurants/detail?entry=pll&id=35664661&query=%EB%8D%94%EB%B2%84%EB%AE%A4%EB%8B%A4&tab=fsasReview&tabPage=1'\n",
    "\n",
    "data = crawl_rest(main_url, tab_url, 12, '더버뮤다')\n",
    "data.to_csv('./data/restaurants/itaewon/더버뮤다.csv', encoding = 'utf-8', index = False)"
   ]
  },
  {
   "cell_type": "code",
   "execution_count": 15,
   "metadata": {},
   "outputs": [],
   "source": [
    "# BNHR\n",
    "main_url = 'https://store.naver.com/restaurants/detail?entry=pll&id=1575978291&query=BNHR&tab=main'\n",
    "tab_url = 'https://store.naver.com/restaurants/detail?entry=pll&id=1575978291&query=BNHR&tab=fsasReview&tabPage=1'\n",
    "\n",
    "data = crawl_rest(main_url, tab_url, 12, 'BNHR')\n",
    "data.to_csv('./data/restaurants/itaewon/BNHR.csv', encoding = 'utf-8', index = False)"
   ]
  },
  {
   "cell_type": "code",
   "execution_count": 3,
   "metadata": {},
   "outputs": [],
   "source": [
    "# 장미쌀롱\n",
    "main_url = 'https://store.naver.com/restaurants/detail?entry=pll&id=1724446982&query=%EC%9E%A5%EB%AF%B8%EC%8C%80%EB%A1%B1'\n",
    "tab_url = 'https://store.naver.com/restaurants/detail?entry=pll&id=1724446982&query=%EC%9E%A5%EB%AF%B8%EC%8C%80%EB%A1%B1&tab=fsasReview&tabPage=1'\n",
    "\n",
    "data = crawl_rest(main_url, tab_url, 12, '장미쌀롱')\n",
    "data.to_csv('./data/restaurants/itaewon/장미쌀롱.csv', encoding = 'utf-8', index = False)"
   ]
  },
  {
   "cell_type": "code",
   "execution_count": 4,
   "metadata": {},
   "outputs": [],
   "source": [
    "# 루프탑야스\n",
    "main_url = 'https://store.naver.com/restaurants/detail?entry=pll&id=51790932&query=%EB%A3%A8%ED%94%84%ED%83%91%EC%95%BC%EC%8A%A4'\n",
    "tab_url = 'https://store.naver.com/restaurants/detail?entry=pll&id=51790932&query=%EB%A3%A8%ED%94%84%ED%83%91%EC%95%BC%EC%8A%A4&tab=fsasReview&tabPage=1'\n",
    "\n",
    "data = crawl_rest(main_url, tab_url, 12, '루프탑야스')\n",
    "data.to_csv('./data/restaurants/itaewon/루프탑야스.csv', encoding = 'utf-8', index = False)"
   ]
  },
  {
   "cell_type": "code",
   "execution_count": 5,
   "metadata": {},
   "outputs": [],
   "source": [
    "# 꿀밤\n",
    "main_url = 'https://store.naver.com/restaurants/detail?entry=pll&id=1135601340&query=%EA%BF%80%EB%B0%A4'\n",
    "tab_url = 'https://store.naver.com/restaurants/detail?entry=pll&id=1135601340&query=%EA%BF%80%EB%B0%A4&tab=fsasReview&tabPage=1'\n",
    "\n",
    "data = crawl_rest(main_url, tab_url, 12, '꿀밤')\n",
    "data.to_csv('./data/restaurants/itaewon/꿀밤.csv', encoding = 'utf-8', index = False)"
   ]
  },
  {
   "cell_type": "code",
   "execution_count": 6,
   "metadata": {},
   "outputs": [],
   "source": [
    "# 써머레인\n",
    "main_url = 'https://store.naver.com/restaurants/detail?entry=pll&id=733920762&query=Summer%20Lane'\n",
    "tab_url = 'https://store.naver.com/restaurants/detail?entry=pll&id=733920762&query=Summer%20Lane&tab=fsasReview&tabPage=1'\n",
    "\n",
    "data = crawl_rest(main_url, tab_url, 12, '써머레인')\n",
    "data.to_csv('./data/restaurants/itaewon/써머레인.csv', encoding = 'utf-8', index = False)"
   ]
  },
  {
   "cell_type": "code",
   "execution_count": 7,
   "metadata": {},
   "outputs": [],
   "source": [
    "# 트로이카\n",
    "main_url = 'https://store.naver.com/restaurants/detail?entry=pll&id=36728206&query=%ED%8A%B8%EB%A1%9C%EC%9D%B4%EC%B9%B4'\n",
    "tab_url = 'https://store.naver.com/restaurants/detail?entry=pll&id=36728206&query=%ED%8A%B8%EB%A1%9C%EC%9D%B4%EC%B9%B4&tab=fsasReview&tabPage=1'\n",
    "data = crawl_rest(main_url, tab_url, 12, '트로이카')\n",
    "data.to_csv('./data/restaurants/itaewon/트로이카.csv', encoding = 'utf-8', index = False)"
   ]
  },
  {
   "cell_type": "code",
   "execution_count": 8,
   "metadata": {},
   "outputs": [],
   "source": [
    "# 모어댄레스\n",
    "main_url = 'https://store.naver.com/restaurants/detail?entry=pll&id=36648938&query=%EB%AA%A8%EC%96%B4%EB%8C%84%EB%A0%88%EC%8A%A4'\n",
    "tab_url = 'https://store.naver.com/restaurants/detail?entry=pll&id=36648938&query=%EB%AA%A8%EC%96%B4%EB%8C%84%EB%A0%88%EC%8A%A4&tab=fsasReview&tabPage=1'\n",
    "data = crawl_rest(main_url, tab_url, 12, '모어댄레스')\n",
    "data.to_csv('./data/restaurants/itaewon/모어댄레스.csv', encoding = 'utf-8', index = False)"
   ]
  },
  {
   "cell_type": "code",
   "execution_count": 9,
   "metadata": {},
   "outputs": [],
   "source": [
    "# 라이너스바베큐\n",
    "main_url = 'https://store.naver.com/restaurants/detail?entry=pll&id=35209321&query=%EB%9D%BC%EC%9D%B4%EB%84%88%EC%8A%A4%EB%B0%94%EB%B2%A0%ED%81%90'\n",
    "tab_url = 'https://store.naver.com/restaurants/detail?entry=pll&id=35209321&query=%EB%9D%BC%EC%9D%B4%EB%84%88%EC%8A%A4%EB%B0%94%EB%B2%A0%ED%81%90&tab=fsasReview&tabPage=1'\n",
    "data = crawl_rest(main_url, tab_url, 12, '라이너스바베큐')\n",
    "data.to_csv('./data/restaurants/itaewon/라이너스바베큐.csv', encoding = 'utf-8', index = False)"
   ]
  },
  {
   "cell_type": "code",
   "execution_count": 10,
   "metadata": {},
   "outputs": [],
   "source": [
    "# 라페름\n",
    "main_url = 'https://store.naver.com/restaurants/detail?entry=pll&id=37160963&query=%EB%9D%BC%ED%8E%98%EB%A6%84'\n",
    "tab_url = 'https://store.naver.com/restaurants/detail?entry=pll&id=37160963&query=%EB%9D%BC%ED%8E%98%EB%A6%84&tab=fsasReview&tabPage=1'\n",
    "data = crawl_rest(main_url, tab_url, 12, '라페름')\n",
    "data.to_csv('./data/restaurants/itaewon/라페름.csv', encoding = 'utf-8', index = False)"
   ]
  },
  {
   "cell_type": "code",
   "execution_count": 11,
   "metadata": {},
   "outputs": [],
   "source": [
    "# 모터시티\n",
    "main_url = 'https://store.naver.com/restaurants/detail?entry=pll&id=38331689&query=%EB%AA%A8%ED%84%B0%EC%8B%9C%ED%8B%B0'\n",
    "tab_url = 'https://store.naver.com/restaurants/detail?entry=pll&id=38331689&query=%EB%AA%A8%ED%84%B0%EC%8B%9C%ED%8B%B0&tab=fsasReview&tabPage=1'\n",
    "data = crawl_rest(main_url, tab_url, 12, '모터시티')\n",
    "data.to_csv('./data/restaurants/itaewon/모터시티.csv', encoding = 'utf-8', index = False)"
   ]
  },
  {
   "cell_type": "code",
   "execution_count": 12,
   "metadata": {},
   "outputs": [],
   "source": [
    "# 맥심플랜트\n",
    "main_url = 'https://store.naver.com/restaurants/detail?entry=pll&id=1057800745&query=%EB%A7%A5%EC%8B%AC%ED%94%8C%EB%9E%9C%ED%8A%B8'\n",
    "tab_url = 'https://store.naver.com/restaurants/detail?entry=pll&id=1057800745&query=%EB%A7%A5%EC%8B%AC%ED%94%8C%EB%9E%9C%ED%8A%B8&tab=fsasReview&tabPage=1'\n",
    "data = crawl_rest(main_url, tab_url, 12, '맥심플랜트')\n",
    "data.to_csv('./data/restaurants/itaewon/맥심플랜트.csv', encoding = 'utf-8', index = False)"
   ]
  },
  {
   "cell_type": "code",
   "execution_count": 13,
   "metadata": {},
   "outputs": [],
   "source": [
    "# 라운드어바웃\n",
    "main_url ='https://store.naver.com/restaurants/detail?entry=pll&id=36383879&query=%EB%9D%BC%EC%9A%B4%EB%93%9C%EC%96%B4%EB%B0%94%EC%9B%83%20%ED%95%9C%EB%82%A8%EC%A0%90'\n",
    "tab_url = 'https://store.naver.com/restaurants/detail?entry=pll&id=36383879&query=%EB%9D%BC%EC%9A%B4%EB%93%9C%EC%96%B4%EB%B0%94%EC%9B%83%20%ED%95%9C%EB%82%A8%EC%A0%90&tab=fsasReview&tabPage=1'\n",
    "data = crawl_rest(main_url, tab_url, 12, '라운드어바웃')\n",
    "data.to_csv('./data/restaurants/itaewon/라운드어바웃.csv', encoding = 'utf-8', index = False)"
   ]
  },
  {
   "cell_type": "code",
   "execution_count": 14,
   "metadata": {},
   "outputs": [],
   "source": [
    "# 프로스트\n",
    "main_url ='https://store.naver.com/restaurants/detail?entry=pll&id=31139649&query=%ED%94%84%EB%A1%9C%EC%8A%A4%ED%8A%B8'\n",
    "tab_url = 'https://store.naver.com/restaurants/detail?entry=pll&id=31139649&query=%ED%94%84%EB%A1%9C%EC%8A%A4%ED%8A%B8&tab=fsasReview&tabPage=1'\n",
    "data = crawl_rest(main_url, tab_url, 12, '프로스트')\n",
    "data.to_csv('./data/restaurants/itaewon/프로스트.csv', encoding = 'utf-8', index = False)"
   ]
  },
  {
   "cell_type": "code",
   "execution_count": 15,
   "metadata": {},
   "outputs": [],
   "source": [
    "# 은마양대창\n",
    "main_url ='https://store.naver.com/restaurants/detail?entry=pll&id=1122846524&query=%EC%9D%80%EB%A7%88%EC%96%91%EB%8C%80%EC%B0%BD'\n",
    "tab_url = 'https://store.naver.com/restaurants/detail?entry=pll&id=1122846524&query=%EC%9D%80%EB%A7%88%EC%96%91%EB%8C%80%EC%B0%BD&tab=fsasReview&tabPage=1'\n",
    "data = crawl_rest(main_url, tab_url, 12, '은마양대창')\n",
    "data.to_csv('./data/restaurants/itaewon/은마양대창.csv', encoding = 'utf-8', index = False)"
   ]
  },
  {
   "cell_type": "code",
   "execution_count": 16,
   "metadata": {},
   "outputs": [],
   "source": [
    "# 오복수산\n",
    "main_url ='https://store.naver.com/restaurants/detail?entry=pll&id=1010413519&query=%EC%98%A4%EB%B3%B5%EC%88%98%EC%82%B0%20%ED%95%9C%EB%82%A8'\n",
    "tab_url = 'https://store.naver.com/restaurants/detail?entry=pll&id=1122846524&query=%EC%9D%80%EB%A7%88%EC%96%91%EB%8C%80%EC%B0%BD&tab=fsasReview&tabPage=1'\n",
    "data = crawl_rest(main_url, tab_url, 12, '오복수산')\n",
    "data.to_csv('./data/restaurants/itaewon/오복수산.csv', encoding = 'utf-8', index = False)"
   ]
  },
  {
   "cell_type": "code",
   "execution_count": 18,
   "metadata": {},
   "outputs": [],
   "source": [
    "# 매덕스피자\n",
    "main_url ='https://store.naver.com/restaurants/detail?entry=pll&id=36297977&query=%EB%A7%A4%EB%8D%95%EC%8A%A4%ED%94%BC%EC%9E%90'\n",
    "tab_url = 'https://store.naver.com/restaurants/detail?entry=pll&id=36297977&query=%EB%A7%A4%EB%8D%95%EC%8A%A4%ED%94%BC%EC%9E%90&tab=fsasReview&tabPage=1'\n",
    "data = crawl_rest(main_url, tab_url, 12, '매덕스피자')\n",
    "data.to_csv('./data/restaurants/itaewon/매덕스피자.csv', encoding = 'utf-8', index = False)"
   ]
  },
  {
   "cell_type": "code",
   "execution_count": 19,
   "metadata": {},
   "outputs": [],
   "source": [
    "# 오아시스\n",
    "main_url ='https://store.naver.com/restaurants/detail?entry=pll&id=1110133208&query=%EC%98%A4%EC%95%84%EC%8B%9C%EC%8A%A4%20%ED%95%9C%EB%82%A8%EC%A0%90'\n",
    "tab_url = 'https://store.naver.com/restaurants/detail?entry=pll&id=1110133208&query=%EC%98%A4%EC%95%84%EC%8B%9C%EC%8A%A4%20%ED%95%9C%EB%82%A8%EC%A0%90&tab=fsasReview&tabPage=1'\n",
    "data = crawl_rest(main_url, tab_url, 12, '오아시스')\n",
    "data.to_csv('./data/restaurants/itaewon/오아시스.csv', encoding = 'utf-8', index = False)"
   ]
  },
  {
   "cell_type": "code",
   "execution_count": 20,
   "metadata": {},
   "outputs": [],
   "source": [
    "# 테이프\n",
    "main_url ='https://store.naver.com/restaurants/detail?entry=pll&id=1845157455&query=%ED%85%8C%EC%9D%B4%ED%94%84'\n",
    "tab_url = 'https://store.naver.com/restaurants/detail?entry=pll&id=1845157455&query=%ED%85%8C%EC%9D%B4%ED%94%84&tab=fsasReview&tabPage=1'\n",
    "data = crawl_rest(main_url, tab_url, 12, '테이프')\n",
    "data.to_csv('./data/restaurants/itaewon/테이프.csv', encoding = 'utf-8', index = False)"
   ]
  },
  {
   "cell_type": "code",
   "execution_count": 21,
   "metadata": {},
   "outputs": [],
   "source": [
    "# 마렘마\n",
    "main_url ='https://store.naver.com/restaurants/detail?entry=pll&id=37565347&query=%EB%A7%88%EB%A0%98%EB%A7%88'\n",
    "tab_url = 'https://store.naver.com/restaurants/detail?entry=pll&id=37565347&query=%EB%A7%88%EB%A0%98%EB%A7%88&tab=fsasReview&tabPage=1'\n",
    "data = crawl_rest(main_url, tab_url, 12, '마렘마')\n",
    "data.to_csv('./data/restaurants/itaewon/마렘마.csv', encoding = 'utf-8', index = False)"
   ]
  },
  {
   "cell_type": "code",
   "execution_count": 22,
   "metadata": {},
   "outputs": [],
   "source": [
    "# 센시티브서울\n",
    "main_url ='https://store.naver.com/restaurants/detail?entry=pll&id=1153894843&query=%EC%84%BC%EC%8B%9C%ED%8B%B0%EB%B8%8C%EC%84%9C%EC%9A%B8'\n",
    "tab_url = 'https://store.naver.com/restaurants/detail?entry=pll&id=1153894843&query=%EC%84%BC%EC%8B%9C%ED%8B%B0%EB%B8%8C%EC%84%9C%EC%9A%B8&tab=fsasReview&tabPage=1'\n",
    "data = crawl_rest(main_url, tab_url, 12, '센시티브서울')\n",
    "data.to_csv('./data/restaurants/itaewon/센시티브서울.csv', encoding = 'utf-8', index = False)"
   ]
  },
  {
   "cell_type": "code",
   "execution_count": 24,
   "metadata": {},
   "outputs": [],
   "source": [
    "# 타파스바\n",
    "main_url ='https://store.naver.com/restaurants/detail?entry=pll&id=37085777&query=%ED%83%80%ED%8C%8C%EC%8A%A4%EB%B0%94'\n",
    "tab_url = 'https://store.naver.com/restaurants/detail?entry=pll&id=37085777&query=%ED%83%80%ED%8C%8C%EC%8A%A4%EB%B0%94&tab=fsasReview&tabPage=1'\n",
    "data = crawl_rest(main_url, tab_url, 12, '타파스바')\n",
    "data.to_csv('./data/restaurants/itaewon/타파스바.csv', encoding = 'utf-8', index = False)"
   ]
  },
  {
   "cell_type": "code",
   "execution_count": 25,
   "metadata": {},
   "outputs": [],
   "source": [
    "# 이타인\n",
    "main_url ='https://store.naver.com/restaurants/detail?entry=pll&id=1643019878&query=%EC%9D%B4%ED%83%80%EC%9D%B8'\n",
    "tab_url = 'https://store.naver.com/restaurants/detail?entry=pll&id=1643019878&query=%EC%9D%B4%ED%83%80%EC%9D%B8&tab=fsasReview&tabPage=1'\n",
    "data = crawl_rest(main_url, tab_url, 12, '이타인')\n",
    "data.to_csv('./data/restaurants/itaewon/이타인.csv', encoding = 'utf-8', index = False)"
   ]
  },
  {
   "cell_type": "code",
   "execution_count": 26,
   "metadata": {},
   "outputs": [],
   "source": [
    "# 끗집\n",
    "main_url ='https://store.naver.com/restaurants/detail?entry=pll&id=1409958861&query=%EB%81%97%EC%A7%91'\n",
    "tab_url = 'https://store.naver.com/restaurants/detail?entry=pll&id=1409958861&query=%EB%81%97%EC%A7%91&tab=fsasReview&tabPage=1'\n",
    "data = crawl_rest(main_url, tab_url, 12, '끗집')\n",
    "data.to_csv('./data/restaurants/itaewon/끗집.csv', encoding = 'utf-8', index = False)"
   ]
  },
  {
   "cell_type": "code",
   "execution_count": 27,
   "metadata": {},
   "outputs": [],
   "source": [
    "# 탄탈라이즈\n",
    "main_url ='https://store.naver.com/restaurants/detail?entry=pll&id=195525006&query=%ED%83%84%ED%83%88%EB%9D%BC%EC%9D%B4%EC%A6%88'\n",
    "tab_url = 'https://store.naver.com/restaurants/detail?entry=pll&id=195525006&query=%ED%83%84%ED%83%88%EB%9D%BC%EC%9D%B4%EC%A6%88&tab=fsasReview&tabPage=1'\n",
    "data = crawl_rest(main_url, tab_url, 12, '탄탈라이즈')\n",
    "data.to_csv('./data/restaurants/itaewon/탄탈라이즈.csv', encoding = 'utf-8', index = False)"
   ]
  },
  {
   "cell_type": "code",
   "execution_count": 28,
   "metadata": {},
   "outputs": [],
   "source": [
    "# 파이프\n",
    "main_url ='https://store.naver.com/restaurants/detail?entry=pll&id=35235067&query=%ED%8C%8C%EC%9D%B4%ED%94%84'\n",
    "tab_url = 'https://store.naver.com/restaurants/detail?entry=pll&id=35235067&query=%ED%8C%8C%EC%9D%B4%ED%94%84&tab=fsasReview&tabPage=1'\n",
    "data = crawl_rest(main_url, tab_url, 12, '파이프')\n",
    "data.to_csv('./data/restaurants/itaewon/파이프.csv', encoding = 'utf-8', index = False)"
   ]
  },
  {
   "cell_type": "code",
   "execution_count": 29,
   "metadata": {},
   "outputs": [],
   "source": [
    "# 원인어밀리언\n",
    "main_url ='https://store.naver.com/restaurants/detail?entry=pll&id=37793452&query=%EC%9B%90%EC%9D%B8%EC%96%B4%EB%B0%80%EB%A6%AC%EC%96%B8'\n",
    "tab_url = 'https://store.naver.com/restaurants/detail?entry=pll&id=37793452&query=%EC%9B%90%EC%9D%B8%EC%96%B4%EB%B0%80%EB%A6%AC%EC%96%B8&tab=fsasReview&tabPage=1'\n",
    "data = crawl_rest(main_url, tab_url, 12, '원인어밀리언')\n",
    "data.to_csv('./data/restaurants/itaewon/원인어밀리언.csv', encoding = 'utf-8', index = False)"
   ]
  },
  {
   "cell_type": "code",
   "execution_count": 30,
   "metadata": {},
   "outputs": [],
   "source": [
    "# 삐삣버거\n",
    "main_url ='https://store.naver.com/restaurants/detail?entry=pll&id=1575485302&query=%EC%82%90%EC%82%A3%EB%B2%84%EA%B1%B0'\n",
    "tab_url = 'https://store.naver.com/restaurants/detail?entry=pll&id=1575485302&query=%EC%82%90%EC%82%A3%EB%B2%84%EA%B1%B0&tab=fsasReview&tabPage=1'\n",
    "data = crawl_rest(main_url, tab_url, 12, '삐삣버거')\n",
    "data.to_csv('./data/restaurants/itaewon/삐삣버거.csv', encoding = 'utf-8', index = False)"
   ]
  },
  {
   "cell_type": "code",
   "execution_count": 31,
   "metadata": {},
   "outputs": [],
   "source": [
    "# 루틴\n",
    "main_url ='https://store.naver.com/restaurants/detail?entry=pll&id=21192059&query=%EB%A3%A8%ED%8B%B4'\n",
    "tab_url = 'https://store.naver.com/restaurants/detail?entry=pll&id=21192059&query=%EB%A3%A8%ED%8B%B4&tab=fsasReview&tabPage=1'\n",
    "data = crawl_rest(main_url, tab_url, 12, '루틴')\n",
    "data.to_csv('./data/restaurants/itaewon/루틴.csv', encoding = 'utf-8', index = False)"
   ]
  },
  {
   "cell_type": "code",
   "execution_count": 32,
   "metadata": {},
   "outputs": [],
   "source": [
    "# 랑만\n",
    "main_url ='https://store.naver.com/restaurants/detail?entry=pll&id=704661388&query=%EB%9E%91%EB%A7%8C'\n",
    "tab_url = 'https://store.naver.com/restaurants/detail?entry=pll&id=704661388&query=%EB%9E%91%EB%A7%8C&tab=fsasReview&tabPage=1'\n",
    "data = crawl_rest(main_url, tab_url, 12, '랑만')\n",
    "data.to_csv('./data/restaurants/itaewon/랑만.csv', encoding = 'utf-8', index = False)"
   ]
  },
  {
   "cell_type": "code",
   "execution_count": 33,
   "metadata": {},
   "outputs": [],
   "source": [
    "# 쟈니덤플링\n",
    "main_url ='https://store.naver.com/restaurants/detail?entry=pll&id=12059304&query=%EC%9F%88%EB%8B%88%EB%8D%A4%ED%94%8C%EB%A7%81'\n",
    "tab_url = 'https://store.naver.com/restaurants/detail?entry=pll&id=12059304&query=%EC%9F%88%EB%8B%88%EB%8D%A4%ED%94%8C%EB%A7%81&tab=fsasReview&tabPage=1'\n",
    "data = crawl_rest(main_url, tab_url, 12, '쟈니덤플링')\n",
    "data.to_csv('./data/restaurants/itaewon/쟈니덤플링.csv', encoding = 'utf-8', index = False)"
   ]
  },
  {
   "cell_type": "code",
   "execution_count": 34,
   "metadata": {},
   "outputs": [],
   "source": [
    "# 할랄가이즈\n",
    "main_url ='https://store.naver.com/restaurants/detail?entry=pll&id=54363337&query=%ED%95%A0%EB%9E%84%EA%B0%80%EC%9D%B4%EC%A6%88%20%EC%9D%B4%ED%83%9C%EC%9B%90%EC%A0%90'\n",
    "tab_url = 'https://store.naver.com/restaurants/detail?entry=pll&id=54363337&query=%ED%95%A0%EB%9E%84%EA%B0%80%EC%9D%B4%EC%A6%88%20%EC%9D%B4%ED%83%9C%EC%9B%90%EC%A0%90&tab=fsasReview&tabPage=1'\n",
    "data = crawl_rest(main_url, tab_url, 12, '할랄가이즈')\n",
    "data.to_csv('./data/restaurants/itaewon/할랄가이즈.csv', encoding = 'utf-8', index = False)"
   ]
  },
  {
   "cell_type": "code",
   "execution_count": 35,
   "metadata": {},
   "outputs": [],
   "source": [
    "# 앤트러사이트\n",
    "main_url ='https://store.naver.com/restaurants/detail?entry=pll&id=37621187&query=%EC%95%A4%ED%8A%B8%EB%9F%AC%EC%82%AC%EC%9D%B4%ED%8A%B8%20%ED%95%9C%EB%82%A8%EC%A0%90'\n",
    "tab_url = 'https://store.naver.com/restaurants/detail?entry=pll&id=37621187&query=%EC%95%A4%ED%8A%B8%EB%9F%AC%EC%82%AC%EC%9D%B4%ED%8A%B8%20%ED%95%9C%EB%82%A8%EC%A0%90&tab=fsasReview&tabPage=1'\n",
    "data = crawl_rest(main_url, tab_url, 12, '앤트러사이트')\n",
    "data.to_csv('./data/restaurants/itaewon/앤트러사이트.csv', encoding = 'utf-8', index = False)"
   ]
  },
  {
   "cell_type": "code",
   "execution_count": 36,
   "metadata": {},
   "outputs": [],
   "source": [
    "# 나리의집\n",
    "main_url ='https://store.naver.com/restaurants/detail?entry=pll&id=19882242&query=%EB%82%98%EB%A6%AC%EC%9D%98%20%EC%A7%91'\n",
    "tab_url = 'https://store.naver.com/restaurants/detail?entry=pll&id=19882242&query=%EB%82%98%EB%A6%AC%EC%9D%98%20%EC%A7%91&tab=fsasReview&tabPage=1'\n",
    "data = crawl_rest(main_url, tab_url, 12, '나리의집')\n",
    "data.to_csv('./data/restaurants/itaewon/나리의집.csv', encoding = 'utf-8', index = False)"
   ]
  },
  {
   "cell_type": "code",
   "execution_count": 37,
   "metadata": {},
   "outputs": [],
   "source": [
    "# 더테이블키친\n",
    "main_url ='https://store.naver.com/restaurants/detail?entry=pll&id=1543074617&query=%EB%8D%94%ED%85%8C%EC%9D%B4%EB%B8%94%ED%82%A4%EC%B9%9C'\n",
    "tab_url = 'https://store.naver.com/restaurants/detail?entry=pll&id=1543074617&query=%EB%8D%94%ED%85%8C%EC%9D%B4%EB%B8%94%ED%82%A4%EC%B9%9C&tab=fsasReview&tabPage=1'\n",
    "data = crawl_rest(main_url, tab_url, 12, '더테이블키친')\n",
    "data.to_csv('./data/restaurants/itaewon/더테이블키친.csv', encoding = 'utf-8', index = False)"
   ]
  },
  {
   "cell_type": "code",
   "execution_count": 38,
   "metadata": {},
   "outputs": [],
   "source": [
    "# 이태원곱\n",
    "main_url ='https://store.naver.com/restaurants/detail?entry=pll&id=1208395019&query=%EC%9D%B4%ED%83%9C%EC%9B%90%EA%B3%B1'\n",
    "tab_url = 'https://store.naver.com/restaurants/detail?entry=pll&id=1208395019&query=%EC%9D%B4%ED%83%9C%EC%9B%90%EA%B3%B1&tab=fsasReview&tabPage=1'\n",
    "data = crawl_rest(main_url, tab_url, 12, '이태원곱')\n",
    "data.to_csv('./data/restaurants/itaewon/이태원곱.csv', encoding = 'utf-8', index = False)"
   ]
  },
  {
   "cell_type": "code",
   "execution_count": 39,
   "metadata": {},
   "outputs": [],
   "source": [
    "# 이태원우육미엔\n",
    "main_url ='https://store.naver.com/restaurants/detail?entry=pll&id=509026240&query=%EC%9D%B4%ED%83%9C%EC%9B%90%EC%9A%B0%EC%9C%A1%EB%AF%B8%EC%97%94'\n",
    "tab_url = 'https://store.naver.com/restaurants/detail?entry=pll&id=509026240&query=%EC%9D%B4%ED%83%9C%EC%9B%90%EC%9A%B0%EC%9C%A1%EB%AF%B8%EC%97%94&tab=fsasReview&tabPage=1'\n",
    "data = crawl_rest(main_url, tab_url, 12, '이태원우육미엔')\n",
    "data.to_csv('./data/restaurants/itaewon/이태원우육미엔.csv', encoding = 'utf-8', index = False)"
   ]
  },
  {
   "cell_type": "code",
   "execution_count": 40,
   "metadata": {},
   "outputs": [],
   "source": [
    "# 텅앤그루브조인트\n",
    "main_url ='https://store.naver.com/restaurants/detail?entry=pll&id=37558513&query=%ED%85%85%EC%95%A4%EA%B7%B8%EB%A3%A8%EB%B8%8C%EC%A1%B0%EC%9D%B8%ED%8A%B8'\n",
    "tab_url = 'https://store.naver.com/restaurants/detail?entry=pll&id=37558513&query=%ED%85%85%EC%95%A4%EA%B7%B8%EB%A3%A8%EB%B8%8C%EC%A1%B0%EC%9D%B8%ED%8A%B8&tab=fsasReview&tabPage=1'\n",
    "data = crawl_rest(main_url, tab_url, 12, '텅앤그루브조인트')\n",
    "data.to_csv('./data/restaurants/itaewon/텅앤그루브조인트.csv', encoding = 'utf-8', index = False)"
   ]
  },
  {
   "cell_type": "code",
   "execution_count": 42,
   "metadata": {},
   "outputs": [],
   "source": [
    "# 빠르크\n",
    "main_url ='https://store.naver.com/restaurants/detail?entry=pll&id=31906212&query=%ED%8C%8C%EB%A5%B4%ED%81%AC'\n",
    "tab_url = 'https://store.naver.com/restaurants/detail?entry=pll&id=31906212&query=%ED%8C%8C%EB%A5%B4%ED%81%AC&tab=fsasReview&tabPage=1'\n",
    "data = crawl_rest(main_url, tab_url, 12, '빠르크')\n",
    "data.to_csv('./data/restaurants/itaewon/빠르크.csv', encoding = 'utf-8', index = False)"
   ]
  },
  {
   "cell_type": "code",
   "execution_count": 4,
   "metadata": {},
   "outputs": [],
   "source": [
    "# 버블앤코클스\n",
    "main_url ='https://store.naver.com/restaurants/detail?entry=pll&id=38549674&query=%EB%B2%84%EB%B8%94%EC%95%A4%EC%BD%94%ED%81%B4%EC%8A%A4'\n",
    "tab_url = 'https://store.naver.com/restaurants/detail?entry=pll&id=38549674&query=%EB%B2%84%EB%B8%94%EC%95%A4%EC%BD%94%ED%81%B4%EC%8A%A4&tab=fsasReview'\n",
    "data = crawl_rest(main_url, tab_url, 12, '버블앤코클스')\n",
    "data.to_csv('./data/restaurants/itaewon/버블앤코클스.csv', encoding = 'utf-8', index = False)"
   ]
  },
  {
   "cell_type": "code",
   "execution_count": 44,
   "metadata": {},
   "outputs": [],
   "source": [
    "# 더방갈로\n",
    "main_url ='https://store.naver.com/restaurants/detail?entry=pll&id=11893063&query=%EB%8D%94%20%EB%B0%A9%EA%B0%88%EB%A1%9C'\n",
    "tab_url = 'https://store.naver.com/restaurants/detail?entry=pll&id=11893063&query=%EB%8D%94%20%EB%B0%A9%EA%B0%88%EB%A1%9C&tab=fsasReview&tabPage=1'\n",
    "data = crawl_rest(main_url, tab_url, 12, '더방갈로')\n",
    "data.to_csv('./data/restaurants/itaewon/더방갈로.csv', encoding = 'utf-8', index = False)"
   ]
  },
  {
   "cell_type": "code",
   "execution_count": 45,
   "metadata": {},
   "outputs": [],
   "source": [
    "# 재재식당\n",
    "main_url ='https://store.naver.com/restaurants/detail?entry=pll&id=1927417762&query=%EC%9E%AC%EC%9E%AC%EC%8B%9D%EB%8B%B9'\n",
    "tab_url = 'https://store.naver.com/restaurants/detail?entry=pll&id=1927417762&query=%EC%9E%AC%EC%9E%AC%EC%8B%9D%EB%8B%B9&tab=fsasReview&tabPage=1'\n",
    "data = crawl_rest(main_url, tab_url, 12, '재재식당')\n",
    "data.to_csv('./data/restaurants/itaewon/재재식당.csv', encoding = 'utf-8', index = False)"
   ]
  },
  {
   "cell_type": "code",
   "execution_count": null,
   "metadata": {},
   "outputs": [],
   "source": []
  }
 ],
 "metadata": {
  "kernelspec": {
   "display_name": "Python 3",
   "language": "python",
   "name": "python3"
  },
  "language_info": {
   "codemirror_mode": {
    "name": "ipython",
    "version": 3
   },
   "file_extension": ".py",
   "mimetype": "text/x-python",
   "name": "python",
   "nbconvert_exporter": "python",
   "pygments_lexer": "ipython3",
   "version": "3.7.4"
  }
 },
 "nbformat": 4,
 "nbformat_minor": 4
}
